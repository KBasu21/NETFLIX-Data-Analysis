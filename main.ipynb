{
 "cells": [
  {
   "cell_type": "markdown",
   "metadata": {},
   "source": [
    "# NETFLIX Project"
   ]
  },
  {
   "cell_type": "code",
   "execution_count": 1,
   "metadata": {},
   "outputs": [],
   "source": [
    "import pandas as pd\n",
    "import matplotlib.pyplot as plt"
   ]
  },
  {
   "cell_type": "markdown",
   "metadata": {},
   "source": [
    "### Problem Statements"
   ]
  },
  {
   "cell_type": "markdown",
   "metadata": {},
   "source": [
    "Q1. What is the most frequent genre of movies released on Netflix?<br>\n",
    "Q2. Which has highest votes in vote avg column?<br>\n",
    "Q3. What movie has got the highest popularity? What's its genre?<br>\n",
    "Q4. What movie has got the lowest popularity? What's its genre?<br>\n",
    "Q5. Which year has the most filmmed movies?"
   ]
  },
  {
   "cell_type": "markdown",
   "metadata": {},
   "source": [
    "### Data collection"
   ]
  },
  {
   "cell_type": "code",
   "execution_count": 2,
   "metadata": {},
   "outputs": [],
   "source": [
    "df = pd.read_csv(\"mymoviedb.csv\", lineterminator=\"\\n\")"
   ]
  },
  {
   "cell_type": "code",
   "execution_count": 3,
   "metadata": {},
   "outputs": [
    {
     "data": {
      "application/vnd.microsoft.datawrangler.viewer.v0+json": {
       "columns": [
        {
         "name": "index",
         "rawType": "int64",
         "type": "integer"
        },
        {
         "name": "Release_Date",
         "rawType": "object",
         "type": "string"
        },
        {
         "name": "Title",
         "rawType": "object",
         "type": "string"
        },
        {
         "name": "Overview",
         "rawType": "object",
         "type": "string"
        },
        {
         "name": "Popularity",
         "rawType": "float64",
         "type": "float"
        },
        {
         "name": "Vote_Count",
         "rawType": "int64",
         "type": "integer"
        },
        {
         "name": "Vote_Average",
         "rawType": "float64",
         "type": "float"
        },
        {
         "name": "Original_Language",
         "rawType": "object",
         "type": "string"
        },
        {
         "name": "Genre",
         "rawType": "object",
         "type": "string"
        },
        {
         "name": "Poster_Url",
         "rawType": "object",
         "type": "string"
        }
       ],
       "conversionMethod": "pd.DataFrame",
       "ref": "2b19db74-4fa9-483a-9a02-ad71f28601d0",
       "rows": [
        [
         "0",
         "2021-12-15",
         "Spider-Man: No Way Home",
         "Peter Parker is unmasked and no longer able to separate his normal life from the high-stakes of being a super-hero. When he asks for help from Doctor Strange the stakes become even more dangerous, forcing him to discover what it truly means to be Spider-Man.",
         "5083.954",
         "8940",
         "8.3",
         "en",
         "Action, Adventure, Science Fiction",
         "https://image.tmdb.org/t/p/original/1g0dhYtq4irTY1GPXvft6k4YLjm.jpg"
        ],
        [
         "1",
         "2022-03-01",
         "The Batman",
         "In his second year of fighting crime, Batman uncovers corruption in Gotham City that connects to his own family while facing a serial killer known as the Riddler.",
         "3827.658",
         "1151",
         "8.1",
         "en",
         "Crime, Mystery, Thriller",
         "https://image.tmdb.org/t/p/original/74xTEgt7R36Fpooo50r9T25onhq.jpg"
        ],
        [
         "2",
         "2022-02-25",
         "No Exit",
         "Stranded at a rest stop in the mountains during a blizzard, a recovering addict discovers a kidnapped child hidden in a car belonging to one of the people inside the building which sets her on a terrifying struggle to identify who among them is the kidnapper.",
         "2618.087",
         "122",
         "6.3",
         "en",
         "Thriller",
         "https://image.tmdb.org/t/p/original/vDHsLnOWKlPGmWs0kGfuhNF4w5l.jpg"
        ],
        [
         "3",
         "2021-11-24",
         "Encanto",
         "The tale of an extraordinary family, the Madrigals, who live hidden in the mountains of Colombia, in a magical house, in a vibrant town, in a wondrous, charmed place called an Encanto. The magic of the Encanto has blessed every child in the family with a unique gift from super strength to the power to heal—every child except one, Mirabel. But when she discovers that the magic surrounding the Encanto is in danger, Mirabel decides that she, the only ordinary Madrigal, might just be her exceptional family's last hope.",
         "2402.201",
         "5076",
         "7.7",
         "en",
         "Animation, Comedy, Family, Fantasy",
         "https://image.tmdb.org/t/p/original/4j0PNHkMr5ax3IA8tjtxcmPU3QT.jpg"
        ],
        [
         "4",
         "2021-12-22",
         "The King's Man",
         "As a collection of history's worst tyrants and criminal masterminds gather to plot a war to wipe out millions, one man must race against time to stop them.",
         "1895.511",
         "1793",
         "7.0",
         "en",
         "Action, Adventure, Thriller, War",
         "https://image.tmdb.org/t/p/original/aq4Pwv5Xeuvj6HZKtxyd23e6bE9.jpg"
        ]
       ],
       "shape": {
        "columns": 9,
        "rows": 5
       }
      },
      "text/html": [
       "<div>\n",
       "<style scoped>\n",
       "    .dataframe tbody tr th:only-of-type {\n",
       "        vertical-align: middle;\n",
       "    }\n",
       "\n",
       "    .dataframe tbody tr th {\n",
       "        vertical-align: top;\n",
       "    }\n",
       "\n",
       "    .dataframe thead th {\n",
       "        text-align: right;\n",
       "    }\n",
       "</style>\n",
       "<table border=\"1\" class=\"dataframe\">\n",
       "  <thead>\n",
       "    <tr style=\"text-align: right;\">\n",
       "      <th></th>\n",
       "      <th>Release_Date</th>\n",
       "      <th>Title</th>\n",
       "      <th>Overview</th>\n",
       "      <th>Popularity</th>\n",
       "      <th>Vote_Count</th>\n",
       "      <th>Vote_Average</th>\n",
       "      <th>Original_Language</th>\n",
       "      <th>Genre</th>\n",
       "      <th>Poster_Url</th>\n",
       "    </tr>\n",
       "  </thead>\n",
       "  <tbody>\n",
       "    <tr>\n",
       "      <th>0</th>\n",
       "      <td>2021-12-15</td>\n",
       "      <td>Spider-Man: No Way Home</td>\n",
       "      <td>Peter Parker is unmasked and no longer able to...</td>\n",
       "      <td>5083.954</td>\n",
       "      <td>8940</td>\n",
       "      <td>8.3</td>\n",
       "      <td>en</td>\n",
       "      <td>Action, Adventure, Science Fiction</td>\n",
       "      <td>https://image.tmdb.org/t/p/original/1g0dhYtq4i...</td>\n",
       "    </tr>\n",
       "    <tr>\n",
       "      <th>1</th>\n",
       "      <td>2022-03-01</td>\n",
       "      <td>The Batman</td>\n",
       "      <td>In his second year of fighting crime, Batman u...</td>\n",
       "      <td>3827.658</td>\n",
       "      <td>1151</td>\n",
       "      <td>8.1</td>\n",
       "      <td>en</td>\n",
       "      <td>Crime, Mystery, Thriller</td>\n",
       "      <td>https://image.tmdb.org/t/p/original/74xTEgt7R3...</td>\n",
       "    </tr>\n",
       "    <tr>\n",
       "      <th>2</th>\n",
       "      <td>2022-02-25</td>\n",
       "      <td>No Exit</td>\n",
       "      <td>Stranded at a rest stop in the mountains durin...</td>\n",
       "      <td>2618.087</td>\n",
       "      <td>122</td>\n",
       "      <td>6.3</td>\n",
       "      <td>en</td>\n",
       "      <td>Thriller</td>\n",
       "      <td>https://image.tmdb.org/t/p/original/vDHsLnOWKl...</td>\n",
       "    </tr>\n",
       "    <tr>\n",
       "      <th>3</th>\n",
       "      <td>2021-11-24</td>\n",
       "      <td>Encanto</td>\n",
       "      <td>The tale of an extraordinary family, the Madri...</td>\n",
       "      <td>2402.201</td>\n",
       "      <td>5076</td>\n",
       "      <td>7.7</td>\n",
       "      <td>en</td>\n",
       "      <td>Animation, Comedy, Family, Fantasy</td>\n",
       "      <td>https://image.tmdb.org/t/p/original/4j0PNHkMr5...</td>\n",
       "    </tr>\n",
       "    <tr>\n",
       "      <th>4</th>\n",
       "      <td>2021-12-22</td>\n",
       "      <td>The King's Man</td>\n",
       "      <td>As a collection of history's worst tyrants and...</td>\n",
       "      <td>1895.511</td>\n",
       "      <td>1793</td>\n",
       "      <td>7.0</td>\n",
       "      <td>en</td>\n",
       "      <td>Action, Adventure, Thriller, War</td>\n",
       "      <td>https://image.tmdb.org/t/p/original/aq4Pwv5Xeu...</td>\n",
       "    </tr>\n",
       "  </tbody>\n",
       "</table>\n",
       "</div>"
      ],
      "text/plain": [
       "  Release_Date                    Title  \\\n",
       "0   2021-12-15  Spider-Man: No Way Home   \n",
       "1   2022-03-01               The Batman   \n",
       "2   2022-02-25                  No Exit   \n",
       "3   2021-11-24                  Encanto   \n",
       "4   2021-12-22           The King's Man   \n",
       "\n",
       "                                            Overview  Popularity  Vote_Count  \\\n",
       "0  Peter Parker is unmasked and no longer able to...    5083.954        8940   \n",
       "1  In his second year of fighting crime, Batman u...    3827.658        1151   \n",
       "2  Stranded at a rest stop in the mountains durin...    2618.087         122   \n",
       "3  The tale of an extraordinary family, the Madri...    2402.201        5076   \n",
       "4  As a collection of history's worst tyrants and...    1895.511        1793   \n",
       "\n",
       "   Vote_Average Original_Language                               Genre  \\\n",
       "0           8.3                en  Action, Adventure, Science Fiction   \n",
       "1           8.1                en            Crime, Mystery, Thriller   \n",
       "2           6.3                en                            Thriller   \n",
       "3           7.7                en  Animation, Comedy, Family, Fantasy   \n",
       "4           7.0                en    Action, Adventure, Thriller, War   \n",
       "\n",
       "                                          Poster_Url  \n",
       "0  https://image.tmdb.org/t/p/original/1g0dhYtq4i...  \n",
       "1  https://image.tmdb.org/t/p/original/74xTEgt7R3...  \n",
       "2  https://image.tmdb.org/t/p/original/vDHsLnOWKl...  \n",
       "3  https://image.tmdb.org/t/p/original/4j0PNHkMr5...  \n",
       "4  https://image.tmdb.org/t/p/original/aq4Pwv5Xeu...  "
      ]
     },
     "execution_count": 3,
     "metadata": {},
     "output_type": "execute_result"
    }
   ],
   "source": [
    "df.head()"
   ]
  },
  {
   "cell_type": "code",
   "execution_count": 4,
   "metadata": {},
   "outputs": [
    {
     "name": "stdout",
     "output_type": "stream",
     "text": [
      "<class 'pandas.core.frame.DataFrame'>\n",
      "RangeIndex: 9827 entries, 0 to 9826\n",
      "Data columns (total 9 columns):\n",
      " #   Column             Non-Null Count  Dtype  \n",
      "---  ------             --------------  -----  \n",
      " 0   Release_Date       9827 non-null   object \n",
      " 1   Title              9827 non-null   object \n",
      " 2   Overview           9827 non-null   object \n",
      " 3   Popularity         9827 non-null   float64\n",
      " 4   Vote_Count         9827 non-null   int64  \n",
      " 5   Vote_Average       9827 non-null   float64\n",
      " 6   Original_Language  9827 non-null   object \n",
      " 7   Genre              9827 non-null   object \n",
      " 8   Poster_Url         9827 non-null   object \n",
      "dtypes: float64(2), int64(1), object(6)\n",
      "memory usage: 691.1+ KB\n"
     ]
    }
   ],
   "source": [
    "df.info()"
   ]
  },
  {
   "cell_type": "code",
   "execution_count": 5,
   "metadata": {},
   "outputs": [
    {
     "data": {
      "application/vnd.microsoft.datawrangler.viewer.v0+json": {
       "columns": [
        {
         "name": "index",
         "rawType": "object",
         "type": "string"
        },
        {
         "name": "Popularity",
         "rawType": "float64",
         "type": "float"
        },
        {
         "name": "Vote_Count",
         "rawType": "float64",
         "type": "float"
        },
        {
         "name": "Vote_Average",
         "rawType": "float64",
         "type": "float"
        }
       ],
       "conversionMethod": "pd.DataFrame",
       "ref": "5dde12e1-8701-4640-b79f-6323965285f8",
       "rows": [
        [
         "count",
         "9827.0",
         "9827.0",
         "9827.0"
        ],
        [
         "mean",
         "40.32608822631525",
         "1392.8055357688002",
         "6.439533937112038"
        ],
        [
         "std",
         "108.87399804858318",
         "2611.206906818308",
         "1.129759131694656"
        ],
        [
         "min",
         "13.354",
         "0.0",
         "0.0"
        ],
        [
         "25%",
         "16.128500000000003",
         "146.0",
         "5.9"
        ],
        [
         "50%",
         "21.199",
         "444.0",
         "6.5"
        ],
        [
         "75%",
         "35.1915",
         "1376.0",
         "7.1"
        ],
        [
         "max",
         "5083.954",
         "31077.0",
         "10.0"
        ]
       ],
       "shape": {
        "columns": 3,
        "rows": 8
       }
      },
      "text/html": [
       "<div>\n",
       "<style scoped>\n",
       "    .dataframe tbody tr th:only-of-type {\n",
       "        vertical-align: middle;\n",
       "    }\n",
       "\n",
       "    .dataframe tbody tr th {\n",
       "        vertical-align: top;\n",
       "    }\n",
       "\n",
       "    .dataframe thead th {\n",
       "        text-align: right;\n",
       "    }\n",
       "</style>\n",
       "<table border=\"1\" class=\"dataframe\">\n",
       "  <thead>\n",
       "    <tr style=\"text-align: right;\">\n",
       "      <th></th>\n",
       "      <th>Popularity</th>\n",
       "      <th>Vote_Count</th>\n",
       "      <th>Vote_Average</th>\n",
       "    </tr>\n",
       "  </thead>\n",
       "  <tbody>\n",
       "    <tr>\n",
       "      <th>count</th>\n",
       "      <td>9827.000000</td>\n",
       "      <td>9827.000000</td>\n",
       "      <td>9827.000000</td>\n",
       "    </tr>\n",
       "    <tr>\n",
       "      <th>mean</th>\n",
       "      <td>40.326088</td>\n",
       "      <td>1392.805536</td>\n",
       "      <td>6.439534</td>\n",
       "    </tr>\n",
       "    <tr>\n",
       "      <th>std</th>\n",
       "      <td>108.873998</td>\n",
       "      <td>2611.206907</td>\n",
       "      <td>1.129759</td>\n",
       "    </tr>\n",
       "    <tr>\n",
       "      <th>min</th>\n",
       "      <td>13.354000</td>\n",
       "      <td>0.000000</td>\n",
       "      <td>0.000000</td>\n",
       "    </tr>\n",
       "    <tr>\n",
       "      <th>25%</th>\n",
       "      <td>16.128500</td>\n",
       "      <td>146.000000</td>\n",
       "      <td>5.900000</td>\n",
       "    </tr>\n",
       "    <tr>\n",
       "      <th>50%</th>\n",
       "      <td>21.199000</td>\n",
       "      <td>444.000000</td>\n",
       "      <td>6.500000</td>\n",
       "    </tr>\n",
       "    <tr>\n",
       "      <th>75%</th>\n",
       "      <td>35.191500</td>\n",
       "      <td>1376.000000</td>\n",
       "      <td>7.100000</td>\n",
       "    </tr>\n",
       "    <tr>\n",
       "      <th>max</th>\n",
       "      <td>5083.954000</td>\n",
       "      <td>31077.000000</td>\n",
       "      <td>10.000000</td>\n",
       "    </tr>\n",
       "  </tbody>\n",
       "</table>\n",
       "</div>"
      ],
      "text/plain": [
       "        Popularity    Vote_Count  Vote_Average\n",
       "count  9827.000000   9827.000000   9827.000000\n",
       "mean     40.326088   1392.805536      6.439534\n",
       "std     108.873998   2611.206907      1.129759\n",
       "min      13.354000      0.000000      0.000000\n",
       "25%      16.128500    146.000000      5.900000\n",
       "50%      21.199000    444.000000      6.500000\n",
       "75%      35.191500   1376.000000      7.100000\n",
       "max    5083.954000  31077.000000     10.000000"
      ]
     },
     "execution_count": 5,
     "metadata": {},
     "output_type": "execute_result"
    }
   ],
   "source": [
    "df.describe()"
   ]
  },
  {
   "cell_type": "markdown",
   "metadata": {},
   "source": [
    "### Data Cleaning"
   ]
  },
  {
   "cell_type": "markdown",
   "metadata": {},
   "source": [
    "#### Removing NaNs"
   ]
  },
  {
   "cell_type": "code",
   "execution_count": 6,
   "metadata": {},
   "outputs": [
    {
     "data": {
      "application/vnd.microsoft.datawrangler.viewer.v0+json": {
       "columns": [
        {
         "name": "index",
         "rawType": "int64",
         "type": "integer"
        },
        {
         "name": "Release_Date",
         "rawType": "bool",
         "type": "boolean"
        },
        {
         "name": "Title",
         "rawType": "bool",
         "type": "boolean"
        },
        {
         "name": "Overview",
         "rawType": "bool",
         "type": "boolean"
        },
        {
         "name": "Popularity",
         "rawType": "bool",
         "type": "boolean"
        },
        {
         "name": "Vote_Count",
         "rawType": "bool",
         "type": "boolean"
        },
        {
         "name": "Vote_Average",
         "rawType": "bool",
         "type": "boolean"
        },
        {
         "name": "Original_Language",
         "rawType": "bool",
         "type": "boolean"
        },
        {
         "name": "Genre",
         "rawType": "bool",
         "type": "boolean"
        },
        {
         "name": "Poster_Url",
         "rawType": "bool",
         "type": "boolean"
        }
       ],
       "conversionMethod": "pd.DataFrame",
       "ref": "08a8f731-93ee-489a-b73a-90cad5b75299",
       "rows": [
        [
         "0",
         "True",
         "True",
         "True",
         "True",
         "True",
         "True",
         "True",
         "True",
         "True"
        ],
        [
         "1",
         "True",
         "True",
         "True",
         "True",
         "True",
         "True",
         "True",
         "True",
         "True"
        ],
        [
         "2",
         "True",
         "True",
         "True",
         "True",
         "True",
         "True",
         "True",
         "True",
         "True"
        ],
        [
         "3",
         "True",
         "True",
         "True",
         "True",
         "True",
         "True",
         "True",
         "True",
         "True"
        ],
        [
         "4",
         "True",
         "True",
         "True",
         "True",
         "True",
         "True",
         "True",
         "True",
         "True"
        ],
        [
         "5",
         "True",
         "True",
         "True",
         "True",
         "True",
         "True",
         "True",
         "True",
         "True"
        ],
        [
         "6",
         "True",
         "True",
         "True",
         "True",
         "True",
         "True",
         "True",
         "True",
         "True"
        ],
        [
         "7",
         "True",
         "True",
         "True",
         "True",
         "True",
         "True",
         "True",
         "True",
         "True"
        ],
        [
         "8",
         "True",
         "True",
         "True",
         "True",
         "True",
         "True",
         "True",
         "True",
         "True"
        ],
        [
         "9",
         "True",
         "True",
         "True",
         "True",
         "True",
         "True",
         "True",
         "True",
         "True"
        ],
        [
         "10",
         "True",
         "True",
         "True",
         "True",
         "True",
         "True",
         "True",
         "True",
         "True"
        ],
        [
         "11",
         "True",
         "True",
         "True",
         "True",
         "True",
         "True",
         "True",
         "True",
         "True"
        ],
        [
         "12",
         "True",
         "True",
         "True",
         "True",
         "True",
         "True",
         "True",
         "True",
         "True"
        ],
        [
         "13",
         "True",
         "True",
         "True",
         "True",
         "True",
         "True",
         "True",
         "True",
         "True"
        ],
        [
         "14",
         "True",
         "True",
         "True",
         "True",
         "True",
         "True",
         "True",
         "True",
         "True"
        ],
        [
         "15",
         "True",
         "True",
         "True",
         "True",
         "True",
         "True",
         "True",
         "True",
         "True"
        ],
        [
         "16",
         "True",
         "True",
         "True",
         "True",
         "True",
         "True",
         "True",
         "True",
         "True"
        ],
        [
         "17",
         "True",
         "True",
         "True",
         "True",
         "True",
         "True",
         "True",
         "True",
         "True"
        ],
        [
         "18",
         "True",
         "True",
         "True",
         "True",
         "True",
         "True",
         "True",
         "True",
         "True"
        ],
        [
         "19",
         "True",
         "True",
         "True",
         "True",
         "True",
         "True",
         "True",
         "True",
         "True"
        ],
        [
         "20",
         "True",
         "True",
         "True",
         "True",
         "True",
         "True",
         "True",
         "True",
         "True"
        ],
        [
         "21",
         "True",
         "True",
         "True",
         "True",
         "True",
         "True",
         "True",
         "True",
         "True"
        ],
        [
         "22",
         "True",
         "True",
         "True",
         "True",
         "True",
         "True",
         "True",
         "True",
         "True"
        ],
        [
         "23",
         "True",
         "True",
         "True",
         "True",
         "True",
         "True",
         "True",
         "True",
         "True"
        ],
        [
         "24",
         "True",
         "True",
         "True",
         "True",
         "True",
         "True",
         "True",
         "True",
         "True"
        ],
        [
         "25",
         "True",
         "True",
         "True",
         "True",
         "True",
         "True",
         "True",
         "True",
         "True"
        ],
        [
         "26",
         "True",
         "True",
         "True",
         "True",
         "True",
         "True",
         "True",
         "True",
         "True"
        ],
        [
         "27",
         "True",
         "True",
         "True",
         "True",
         "True",
         "True",
         "True",
         "True",
         "True"
        ],
        [
         "28",
         "True",
         "True",
         "True",
         "True",
         "True",
         "True",
         "True",
         "True",
         "True"
        ],
        [
         "29",
         "True",
         "True",
         "True",
         "True",
         "True",
         "True",
         "True",
         "True",
         "True"
        ],
        [
         "30",
         "True",
         "True",
         "True",
         "True",
         "True",
         "True",
         "True",
         "True",
         "True"
        ],
        [
         "31",
         "True",
         "True",
         "True",
         "True",
         "True",
         "True",
         "True",
         "True",
         "True"
        ],
        [
         "32",
         "True",
         "True",
         "True",
         "True",
         "True",
         "True",
         "True",
         "True",
         "True"
        ],
        [
         "33",
         "True",
         "True",
         "True",
         "True",
         "True",
         "True",
         "True",
         "True",
         "True"
        ],
        [
         "34",
         "True",
         "True",
         "True",
         "True",
         "True",
         "True",
         "True",
         "True",
         "True"
        ],
        [
         "35",
         "True",
         "True",
         "True",
         "True",
         "True",
         "True",
         "True",
         "True",
         "True"
        ],
        [
         "36",
         "True",
         "True",
         "True",
         "True",
         "True",
         "True",
         "True",
         "True",
         "True"
        ],
        [
         "37",
         "True",
         "True",
         "True",
         "True",
         "True",
         "True",
         "True",
         "True",
         "True"
        ],
        [
         "38",
         "True",
         "True",
         "True",
         "True",
         "True",
         "True",
         "True",
         "True",
         "True"
        ],
        [
         "39",
         "True",
         "True",
         "True",
         "True",
         "True",
         "True",
         "True",
         "True",
         "True"
        ],
        [
         "40",
         "True",
         "True",
         "True",
         "True",
         "True",
         "True",
         "True",
         "True",
         "True"
        ],
        [
         "41",
         "True",
         "True",
         "True",
         "True",
         "True",
         "True",
         "True",
         "True",
         "True"
        ],
        [
         "42",
         "True",
         "True",
         "True",
         "True",
         "True",
         "True",
         "True",
         "True",
         "True"
        ],
        [
         "43",
         "True",
         "True",
         "True",
         "True",
         "True",
         "True",
         "True",
         "True",
         "True"
        ],
        [
         "44",
         "True",
         "True",
         "True",
         "True",
         "True",
         "True",
         "True",
         "True",
         "True"
        ],
        [
         "45",
         "True",
         "True",
         "True",
         "True",
         "True",
         "True",
         "True",
         "True",
         "True"
        ],
        [
         "46",
         "True",
         "True",
         "True",
         "True",
         "True",
         "True",
         "True",
         "True",
         "True"
        ],
        [
         "47",
         "True",
         "True",
         "True",
         "True",
         "True",
         "True",
         "True",
         "True",
         "True"
        ],
        [
         "48",
         "True",
         "True",
         "True",
         "True",
         "True",
         "True",
         "True",
         "True",
         "True"
        ],
        [
         "49",
         "True",
         "True",
         "True",
         "True",
         "True",
         "True",
         "True",
         "True",
         "True"
        ]
       ],
       "shape": {
        "columns": 9,
        "rows": 9827
       }
      },
      "text/html": [
       "<div>\n",
       "<style scoped>\n",
       "    .dataframe tbody tr th:only-of-type {\n",
       "        vertical-align: middle;\n",
       "    }\n",
       "\n",
       "    .dataframe tbody tr th {\n",
       "        vertical-align: top;\n",
       "    }\n",
       "\n",
       "    .dataframe thead th {\n",
       "        text-align: right;\n",
       "    }\n",
       "</style>\n",
       "<table border=\"1\" class=\"dataframe\">\n",
       "  <thead>\n",
       "    <tr style=\"text-align: right;\">\n",
       "      <th></th>\n",
       "      <th>Release_Date</th>\n",
       "      <th>Title</th>\n",
       "      <th>Overview</th>\n",
       "      <th>Popularity</th>\n",
       "      <th>Vote_Count</th>\n",
       "      <th>Vote_Average</th>\n",
       "      <th>Original_Language</th>\n",
       "      <th>Genre</th>\n",
       "      <th>Poster_Url</th>\n",
       "    </tr>\n",
       "  </thead>\n",
       "  <tbody>\n",
       "    <tr>\n",
       "      <th>0</th>\n",
       "      <td>True</td>\n",
       "      <td>True</td>\n",
       "      <td>True</td>\n",
       "      <td>True</td>\n",
       "      <td>True</td>\n",
       "      <td>True</td>\n",
       "      <td>True</td>\n",
       "      <td>True</td>\n",
       "      <td>True</td>\n",
       "    </tr>\n",
       "    <tr>\n",
       "      <th>1</th>\n",
       "      <td>True</td>\n",
       "      <td>True</td>\n",
       "      <td>True</td>\n",
       "      <td>True</td>\n",
       "      <td>True</td>\n",
       "      <td>True</td>\n",
       "      <td>True</td>\n",
       "      <td>True</td>\n",
       "      <td>True</td>\n",
       "    </tr>\n",
       "    <tr>\n",
       "      <th>2</th>\n",
       "      <td>True</td>\n",
       "      <td>True</td>\n",
       "      <td>True</td>\n",
       "      <td>True</td>\n",
       "      <td>True</td>\n",
       "      <td>True</td>\n",
       "      <td>True</td>\n",
       "      <td>True</td>\n",
       "      <td>True</td>\n",
       "    </tr>\n",
       "    <tr>\n",
       "      <th>3</th>\n",
       "      <td>True</td>\n",
       "      <td>True</td>\n",
       "      <td>True</td>\n",
       "      <td>True</td>\n",
       "      <td>True</td>\n",
       "      <td>True</td>\n",
       "      <td>True</td>\n",
       "      <td>True</td>\n",
       "      <td>True</td>\n",
       "    </tr>\n",
       "    <tr>\n",
       "      <th>4</th>\n",
       "      <td>True</td>\n",
       "      <td>True</td>\n",
       "      <td>True</td>\n",
       "      <td>True</td>\n",
       "      <td>True</td>\n",
       "      <td>True</td>\n",
       "      <td>True</td>\n",
       "      <td>True</td>\n",
       "      <td>True</td>\n",
       "    </tr>\n",
       "    <tr>\n",
       "      <th>...</th>\n",
       "      <td>...</td>\n",
       "      <td>...</td>\n",
       "      <td>...</td>\n",
       "      <td>...</td>\n",
       "      <td>...</td>\n",
       "      <td>...</td>\n",
       "      <td>...</td>\n",
       "      <td>...</td>\n",
       "      <td>...</td>\n",
       "    </tr>\n",
       "    <tr>\n",
       "      <th>9822</th>\n",
       "      <td>True</td>\n",
       "      <td>True</td>\n",
       "      <td>True</td>\n",
       "      <td>True</td>\n",
       "      <td>True</td>\n",
       "      <td>True</td>\n",
       "      <td>True</td>\n",
       "      <td>True</td>\n",
       "      <td>True</td>\n",
       "    </tr>\n",
       "    <tr>\n",
       "      <th>9823</th>\n",
       "      <td>True</td>\n",
       "      <td>True</td>\n",
       "      <td>True</td>\n",
       "      <td>True</td>\n",
       "      <td>True</td>\n",
       "      <td>True</td>\n",
       "      <td>True</td>\n",
       "      <td>True</td>\n",
       "      <td>True</td>\n",
       "    </tr>\n",
       "    <tr>\n",
       "      <th>9824</th>\n",
       "      <td>True</td>\n",
       "      <td>True</td>\n",
       "      <td>True</td>\n",
       "      <td>True</td>\n",
       "      <td>True</td>\n",
       "      <td>True</td>\n",
       "      <td>True</td>\n",
       "      <td>True</td>\n",
       "      <td>True</td>\n",
       "    </tr>\n",
       "    <tr>\n",
       "      <th>9825</th>\n",
       "      <td>True</td>\n",
       "      <td>True</td>\n",
       "      <td>True</td>\n",
       "      <td>True</td>\n",
       "      <td>True</td>\n",
       "      <td>True</td>\n",
       "      <td>True</td>\n",
       "      <td>True</td>\n",
       "      <td>True</td>\n",
       "    </tr>\n",
       "    <tr>\n",
       "      <th>9826</th>\n",
       "      <td>True</td>\n",
       "      <td>True</td>\n",
       "      <td>True</td>\n",
       "      <td>True</td>\n",
       "      <td>True</td>\n",
       "      <td>True</td>\n",
       "      <td>True</td>\n",
       "      <td>True</td>\n",
       "      <td>True</td>\n",
       "    </tr>\n",
       "  </tbody>\n",
       "</table>\n",
       "<p>9827 rows × 9 columns</p>\n",
       "</div>"
      ],
      "text/plain": [
       "      Release_Date  Title  Overview  Popularity  Vote_Count  Vote_Average  \\\n",
       "0             True   True      True        True        True          True   \n",
       "1             True   True      True        True        True          True   \n",
       "2             True   True      True        True        True          True   \n",
       "3             True   True      True        True        True          True   \n",
       "4             True   True      True        True        True          True   \n",
       "...            ...    ...       ...         ...         ...           ...   \n",
       "9822          True   True      True        True        True          True   \n",
       "9823          True   True      True        True        True          True   \n",
       "9824          True   True      True        True        True          True   \n",
       "9825          True   True      True        True        True          True   \n",
       "9826          True   True      True        True        True          True   \n",
       "\n",
       "      Original_Language  Genre  Poster_Url  \n",
       "0                  True   True        True  \n",
       "1                  True   True        True  \n",
       "2                  True   True        True  \n",
       "3                  True   True        True  \n",
       "4                  True   True        True  \n",
       "...                 ...    ...         ...  \n",
       "9822               True   True        True  \n",
       "9823               True   True        True  \n",
       "9824               True   True        True  \n",
       "9825               True   True        True  \n",
       "9826               True   True        True  \n",
       "\n",
       "[9827 rows x 9 columns]"
      ]
     },
     "execution_count": 6,
     "metadata": {},
     "output_type": "execute_result"
    }
   ],
   "source": [
    "pd.notnull(df)"
   ]
  },
  {
   "cell_type": "code",
   "execution_count": 7,
   "metadata": {},
   "outputs": [
    {
     "data": {
      "application/vnd.microsoft.datawrangler.viewer.v0+json": {
       "columns": [
        {
         "name": "index",
         "rawType": "int64",
         "type": "integer"
        },
        {
         "name": "Release_Date",
         "rawType": "object",
         "type": "string"
        },
        {
         "name": "Title",
         "rawType": "object",
         "type": "string"
        },
        {
         "name": "Overview",
         "rawType": "object",
         "type": "string"
        },
        {
         "name": "Popularity",
         "rawType": "float64",
         "type": "float"
        },
        {
         "name": "Vote_Count",
         "rawType": "int64",
         "type": "integer"
        },
        {
         "name": "Vote_Average",
         "rawType": "float64",
         "type": "float"
        },
        {
         "name": "Original_Language",
         "rawType": "object",
         "type": "string"
        },
        {
         "name": "Genre",
         "rawType": "object",
         "type": "string"
        },
        {
         "name": "Poster_Url",
         "rawType": "object",
         "type": "string"
        }
       ],
       "conversionMethod": "pd.DataFrame",
       "ref": "6c15afd6-8463-4249-bc91-552b219a90e1",
       "rows": [
        [
         "0",
         "2021-12-15",
         "Spider-Man: No Way Home",
         "Peter Parker is unmasked and no longer able to separate his normal life from the high-stakes of being a super-hero. When he asks for help from Doctor Strange the stakes become even more dangerous, forcing him to discover what it truly means to be Spider-Man.",
         "5083.954",
         "8940",
         "8.3",
         "en",
         "Action, Adventure, Science Fiction",
         "https://image.tmdb.org/t/p/original/1g0dhYtq4irTY1GPXvft6k4YLjm.jpg"
        ],
        [
         "1",
         "2022-03-01",
         "The Batman",
         "In his second year of fighting crime, Batman uncovers corruption in Gotham City that connects to his own family while facing a serial killer known as the Riddler.",
         "3827.658",
         "1151",
         "8.1",
         "en",
         "Crime, Mystery, Thriller",
         "https://image.tmdb.org/t/p/original/74xTEgt7R36Fpooo50r9T25onhq.jpg"
        ],
        [
         "2",
         "2022-02-25",
         "No Exit",
         "Stranded at a rest stop in the mountains during a blizzard, a recovering addict discovers a kidnapped child hidden in a car belonging to one of the people inside the building which sets her on a terrifying struggle to identify who among them is the kidnapper.",
         "2618.087",
         "122",
         "6.3",
         "en",
         "Thriller",
         "https://image.tmdb.org/t/p/original/vDHsLnOWKlPGmWs0kGfuhNF4w5l.jpg"
        ],
        [
         "3",
         "2021-11-24",
         "Encanto",
         "The tale of an extraordinary family, the Madrigals, who live hidden in the mountains of Colombia, in a magical house, in a vibrant town, in a wondrous, charmed place called an Encanto. The magic of the Encanto has blessed every child in the family with a unique gift from super strength to the power to heal—every child except one, Mirabel. But when she discovers that the magic surrounding the Encanto is in danger, Mirabel decides that she, the only ordinary Madrigal, might just be her exceptional family's last hope.",
         "2402.201",
         "5076",
         "7.7",
         "en",
         "Animation, Comedy, Family, Fantasy",
         "https://image.tmdb.org/t/p/original/4j0PNHkMr5ax3IA8tjtxcmPU3QT.jpg"
        ],
        [
         "4",
         "2021-12-22",
         "The King's Man",
         "As a collection of history's worst tyrants and criminal masterminds gather to plot a war to wipe out millions, one man must race against time to stop them.",
         "1895.511",
         "1793",
         "7.0",
         "en",
         "Action, Adventure, Thriller, War",
         "https://image.tmdb.org/t/p/original/aq4Pwv5Xeuvj6HZKtxyd23e6bE9.jpg"
        ],
        [
         "5",
         "2022-01-07",
         "The Commando",
         "An elite DEA agent returns home after a failed mission when his family makes an unexpected discovery in their house – a stash of money worth $3 million. They soon face the danger and threat of a newly released criminal and his crew, who will do whatever it takes to retrieve the money, including kidnap the agent’s daughters. Stakes are high and lives are at risk in this head-to-head battle as the agent stops at nothing to protect his family against the money-hungry criminals.",
         "1750.484",
         "33",
         "6.6",
         "en",
         "Action, Crime, Thriller",
         "https://image.tmdb.org/t/p/original/pSh8MyYu5CmfyWEHzv8FEARH2zq.jpg"
        ],
        [
         "6",
         "2022-01-12",
         "Scream",
         "Twenty-five years after a streak of brutal murders shocked the quiet town of Woodsboro, a new killer has donned the Ghostface mask and begins targeting a group of teenagers to resurrect secrets from the town’s deadly past.",
         "1675.161",
         "821",
         "6.8",
         "en",
         "Horror, Mystery, Thriller",
         "https://image.tmdb.org/t/p/original/kZNHR1upJKF3eTzdgl5V8s8a4C3.jpg"
        ],
        [
         "7",
         "2022-02-10",
         "Kimi",
         "A tech worker with agoraphobia discovers recorded evidence of a violent crime but is met with resistance when she tries to report it. Seeking justice, she must do the thing she fears the most: she must leave her apartment.",
         "1601.782",
         "206",
         "6.3",
         "en",
         "Thriller",
         "https://image.tmdb.org/t/p/original/okNgwtxIWzGsNlR3GsOS0i0Qgbn.jpg"
        ],
        [
         "8",
         "2022-02-17",
         "Fistful of Vengeance",
         "A revenge mission becomes a fight to save the world from an ancient threat when superpowered assassin Kai tracks a killer to Bangkok.",
         "1594.013",
         "114",
         "5.3",
         "en",
         "Action, Crime, Fantasy",
         "https://image.tmdb.org/t/p/original/3cccEF9QZgV9bLWyupJO41HSrOV.jpg"
        ],
        [
         "9",
         "2021-11-03",
         "Eternals",
         "The Eternals are a team of ancient aliens who have been living on Earth in secret for thousands of years. When an unexpected tragedy forces them out of the shadows, they are forced to reunite against mankind’s most ancient enemy, the Deviants.",
         "1537.406",
         "4726",
         "7.2",
         "en",
         "Science Fiction",
         "https://image.tmdb.org/t/p/original/zByhtBvX99ZiCQhac1sh9d9r6nb.jpg"
        ],
        [
         "10",
         "2022-02-18",
         "Pursuit",
         "Detective Breslin crosses paths with Calloway, a ruthless hacker desperate to find his wife, who has been kidnapped by a drug cartel. When Calloway escapes police custody, Breslin joins forces with a no-nonsense female cop to reclaim his prisoner. But is Calloway’s crime-boss father somehow involved in this explosive situation?",
         "1500.523",
         "16",
         "5.9",
         "en",
         "Action, Crime, Thriller",
         "https://image.tmdb.org/t/p/original/wYihSXWYqN8Ejsdut2P1P0o97N0.jpg"
        ],
        [
         "11",
         "2021-08-06",
         "My Hero Academia: World Heroes' Mission",
         "A mysterious group called Humarize strongly believes in the Quirk Singularity Doomsday theory which states that when quirks get mixed further in with future generations, that power will bring forth the end of humanity. In order to save everyone, the Pro-Heroes around the world ask UA Academy heroes-in-training to assist them and form a world-classic selected hero team. It is up to the heroes to save the world and the future of heroes in what is the most dangerous crisis to take place yet in My Hero Academia.",
         "1485.064",
         "100",
         "7.3",
         "ja",
         "Animation, Action, Fantasy, Adventure",
         "https://image.tmdb.org/t/p/original/4NUzcKtYPKkfTwKsLjwNt8nRIXV.jpg"
        ],
        [
         "12",
         "2022-02-25",
         "Restless",
         "After going to extremes to cover up an accident, a corrupt cop's life spirals out of control when he starts receiving threats from a mysterious witness.",
         "1468.377",
         "107",
         "5.9",
         "fr",
         "Action, Thriller, Crime",
         "https://image.tmdb.org/t/p/original/aw4GGsRwhQtyLsjzC7dsAahfCDY.jpg"
        ],
        [
         "13",
         "2021-12-02",
         "Nightmare Alley",
         "An ambitious carnival man with a talent for manipulating people with a few well-chosen words hooks up with a female psychiatrist who is even more dangerous than he is.",
         "1455.144",
         "952",
         "7.1",
         "en",
         "Crime, Drama, Thriller",
         "https://image.tmdb.org/t/p/original/680klE0dIreQQOyWKFgNnCAJtws.jpg"
        ],
        [
         "14",
         "2022-01-28",
         "The Ice Age Adventures of Buck Wild",
         "The fearless one-eyed weasel Buck teams up with mischievous possum brothers Crash & Eddie as they head off on a new adventure into Buck's home: The Dinosaur World.",
         "1431.307",
         "737",
         "7.1",
         "en",
         "Animation, Comedy, Adventure, Family",
         "https://image.tmdb.org/t/p/original/zzXFM4FKDG7l1ufrAkwQYv2xvnh.jpg"
        ],
        [
         "15",
         "2022-02-25",
         "Hotel Transylvania: Transformania",
         "When Van Helsing's mysterious invention, the \"Monsterfication Ray,\" goes haywire, Drac and his monster pals are all transformed into humans, and Johnny becomes a monster. In their new mismatched bodies, Drac and Johnny must team up and race across the globe to find a cure before it's too late, and before they drive each other crazy.",
         "1373.778",
         "288",
         "7.0",
         "en",
         "Animation, Family, Fantasy, Comedy, Adventure",
         "https://image.tmdb.org/t/p/original/teCy1egGQa0y8ULJvlrDHQKnxBL.jpg"
        ],
        [
         "16",
         "2022-02-18",
         "Texas Chainsaw Massacre",
         "In this sequel, influencers looking to breathe new life into a Texas ghost town encounter Leatherface, an infamous killer who wears a mask of human skin.",
         "1312.79",
         "521",
         "5.1",
         "en",
         "Horror",
         "https://image.tmdb.org/t/p/original/meRIRfADEGVo65xgPO6eZvJ0CRG.jpg"
        ],
        [
         "17",
         "2022-01-28",
         "The Requin",
         "A couple on a romantic getaway find themselves stranded at sea when a tropical storm sweeps away their villa. In order to survive, they are forced to fight the elements, while sharks circle below.",
         "1252.317",
         "65",
         "4.6",
         "en",
         "Thriller",
         "https://image.tmdb.org/t/p/original/i0z8g2VRZP3dhVvvSMilbOZMKqR.jpg"
        ],
        [
         "18",
         "2022-02-04",
         "Looop Lapeta",
         "When her boyfriend loses a mobster's cash, Savi races against the clock to save the day — if only she can break out of a curious cycle of dead ends.",
         "1240.946",
         "31",
         "6.0",
         "hi",
         "Action, Comedy, Crime",
         "https://image.tmdb.org/t/p/original/onGdT8sYi89drvSJyEJnft97rOq.jpg"
        ],
        [
         "19",
         "2021-11-04",
         "Red Notice",
         "An Interpol-issued Red Notice is a global alert to hunt and capture the world's most wanted. But when a daring heist brings together the FBI's top profiler and two rival criminals, there's no telling what will happen.",
         "1178.544",
         "3193",
         "6.8",
         "en",
         "Action, Comedy, Crime, Thriller",
         "https://image.tmdb.org/t/p/original/lAXONuqg41NwUMuzMiFvicDET9Y.jpg"
        ],
        [
         "20",
         "2021-12-01",
         "Sing 2",
         "Buster and his new cast now have their sights set on debuting a new show at the Crystal Tower Theater in glamorous Redshore City. But with no connections, he and his singers must sneak into the Crystal Entertainment offices, run by the ruthless wolf mogul Jimmy Crystal, where the gang pitches the ridiculous idea of casting the lion rock legend Clay Calloway in their show. Buster must embark on a quest to find the now-isolated Clay and persuade him to return to the stage.",
         "1112.9",
         "2172",
         "8.2",
         "en",
         "Animation, Comedy, Family, Music",
         "https://image.tmdb.org/t/p/original/aWeKITRFbbwY8txG5uCj4rMCfSP.jpg"
        ],
        [
         "21",
         "2022-01-03",
         "The Jack in the Box: Awakening",
         "When a vintage Jack-in-the-box is opened by a dying woman, she enters into a deal with the demon within that would see her illness cured in return for helping it claim six innocent victims.",
         "1096.79",
         "43",
         "5.4",
         "en",
         "Horror",
         "https://image.tmdb.org/t/p/original/3Ib8vlWTrAKRrTWUrTrZPOMW4jp.jpg"
        ],
        [
         "22",
         "2021-09-30",
         "Venom: Let There Be Carnage",
         "After finding a host body in investigative reporter Eddie Brock, the alien symbiote must face a new enemy, Carnage, the alter ego of serial killer Cletus Kasady.",
         "1053.615",
         "6539",
         "7.1",
         "en",
         "Science Fiction, Action, Adventure",
         "https://image.tmdb.org/t/p/original/rjkmN1dniUHVYAtwuV3Tji7FsDO.jpg"
        ],
        [
         "23",
         "2021-12-16",
         "The Matrix Resurrections",
         "Plagued by strange memories, Neo's life takes an unexpected turn when he finds himself back inside the Matrix.",
         "941.024",
         "3160",
         "6.8",
         "en",
         "Science Fiction, Action, Adventure",
         "https://image.tmdb.org/t/p/original/8c4a8kE7PizaGQQnditMmI1xbRp.jpg"
        ],
        [
         "24",
         "2021-11-24",
         "Resident Evil: Welcome to Raccoon City",
         "Once the booming home of pharmaceutical giant Umbrella Corporation, Raccoon City is now a dying Midwestern town. The company’s exodus left the city a wasteland…with great evil brewing below the surface. When that evil is unleashed, the townspeople are forever…changed…and a small group of survivors must work together to uncover the truth behind Umbrella and make it through the night.",
         "881.086",
         "1312",
         "6.1",
         "en",
         "Horror, Action, Science Fiction",
         "https://image.tmdb.org/t/p/original/7uRbWOXxpWDMtnsd2PF3clu65jc.jpg"
        ],
        [
         "25",
         "2021-10-19",
         "Last Man Down",
         "After civilization succumbs to a deadly pandemic and his wife is murdered, a special forces soldier abandons his duty and becomes a hermit in the Nordic wilderness. Years later, a wounded woman appears on his doorstep. She's escaped from a lab and her pursuers believe her blood is the key to a worldwide cure. He's hesitant to get involved, but all doubts are cast aside when he discovers her pursuer is none other than Commander Stone, the man that murdered his wife some years ago.",
         "869.605",
         "318",
         "6.3",
         "en",
         "Action, Thriller",
         "https://image.tmdb.org/t/p/original/4B7liCxNCZIZGONmAMkCnxVlZQV.jpg"
        ],
        [
         "26",
         "2022-01-07",
         "American Siege",
         "An ex-NYPD officer-turned-sheriff of a small rural Georgia town has to contend with a gang of thieves who have taken a wealthy doctor hostage.",
         "867.326",
         "49",
         "5.4",
         "en",
         "Action, Thriller, Crime, Drama",
         "https://image.tmdb.org/t/p/original/daeVrgyj0ue8qb3AHyU3UeCwoZz.jpg"
        ],
        [
         "27",
         "2022-02-10",
         "Uncharted",
         "A young street-smart, Nathan Drake and his wisecracking partner Victor “Sully” Sullivan embark on a dangerous pursuit of “the greatest treasure never found” while also tracking clues that may lead to Nathan’s long-lost brother.",
         "866.391",
         "691",
         "7.1",
         "en",
         "Action, Adventure",
         "https://image.tmdb.org/t/p/original/sqLowacltbZLoCa4KYye64RvvdQ.jpg"
        ],
        [
         "28",
         "2020-10-16",
         "Demon Slayer -Kimetsu no Yaiba- The Movie: Mugen Train",
         "Tanjirō Kamado, joined with Inosuke Hashibira, a boy raised by boars who wears a boar's head, and Zenitsu Agatsuma, a scared boy who reveals his true power when he sleeps, boards the Infinity Train on a new mission with the Fire Hashira, Kyōjurō Rengoku, to defeat a demon who has been tormenting the people and killing the demon slayers who oppose it!",
         "845.992",
         "2224",
         "8.4",
         "ja",
         "Animation, Action, Adventure, Fantasy",
         "https://image.tmdb.org/t/p/original/h8Rb9gBr48ODIwYUttZNYeMWeUU.jpg"
        ],
        [
         "29",
         "2021-11-11",
         "Ghostbusters: Afterlife",
         "When a single mom and her two kids arrive in a small town, they begin to discover their connection to the original Ghostbusters and the secret legacy their grandfather left behind.",
         "839.904",
         "2225",
         "7.7",
         "en",
         "Fantasy, Comedy, Adventure",
         "https://image.tmdb.org/t/p/original/sg4xJaufDiQl7caFEskBtQXfD4x.jpg"
        ],
        [
         "30",
         "2022-01-05",
         "The 355",
         "A group of top female agents from American, British, Chinese, Columbian and German  government agencies are drawn together to try and stop an organization from acquiring a deadly weapon to send the world into chaos.",
         "781.748",
         "313",
         "6.1",
         "en",
         "Action, Thriller",
         "https://image.tmdb.org/t/p/original/uQt2dJFMnJmAp9zLAWNfGilK0BW.jpg"
        ],
        [
         "31",
         "2021-09-01",
         "Shang-Chi and the Legend of the Ten Rings",
         "Shang-Chi must confront the past he thought he left behind when he is drawn into the web of the mysterious Ten Rings organization.",
         "769.185",
         "5845",
         "7.7",
         "en",
         "Action, Adventure, Fantasy",
         "https://image.tmdb.org/t/p/original/1BIoJGKbXjdFDAqUEiA2VHqkK1Z.jpg"
        ],
        [
         "32",
         "2022-02-09",
         "Marry Me",
         "Music superstars Kat Valdez and Bastian are getting married before a global audience of fans. But when Kat learns, seconds before her vows, that Bastian has been unfaithful, she decides to marry Charlie, a stranger in the crowd, instead.",
         "761.793",
         "230",
         "6.9",
         "en",
         "Romance, Comedy, Music",
         "https://image.tmdb.org/t/p/original/ko1JVbGj4bT8IhCWqjBQ6ZtF2t.jpg"
        ],
        [
         "33",
         "2022-01-21",
         "The Hunting",
         "When a mysterious animal attack leaves a mutilated body in the forest, a conservative small town detective must enlist the help of an eager wildlife specialist to uncover the dark and disturbing truth that threatens the town.",
         "761.127",
         "10",
         "5.8",
         "en",
         "Horror",
         "https://image.tmdb.org/t/p/original/kvhrltQIRp1u84ao9uj52YPaWNY.jpg"
        ],
        [
         "34",
         "2021-12-08",
         "West Side Story",
         "Two youngsters from rival New York City gangs fall in love, but tensions between their respective friends build toward tragedy.",
         "678.186",
         "562",
         "7.4",
         "en",
         "Drama, Romance, Crime",
         "https://image.tmdb.org/t/p/original/yfz3IUoYYSY32tkb97HlUBGFsnh.jpg"
        ],
        [
         "35",
         "2022-02-04",
         "Through My Window",
         "Raquel's longtime crush on her next-door neighbor turns into something more when he starts developing feelings for her, despite his family's objections.",
         "659.105",
         "1331",
         "7.8",
         "es",
         "Romance, Drama",
         "https://image.tmdb.org/t/p/original/6gg7fvKc1ZxP9yCczweSxIGYp4S.jpg"
        ],
        [
         "36",
         "2021-07-02",
         "The Seven Deadly Sins: Cursed by Light",
         "With the help of the \"Dragon Sin of Wrath\" Meliodas and the worst rebels in history, the Seven Deadly Sins, the \"Holy War\", in which four races, including Humans, Goddesses, Fairies and Giants fought against the Demons, is finally over. At the cost of the \"Lion Sin of Pride\" Escanor's life, the Demon King was defeated and the world regained peace. After that, each of the Sins take their own path.",
         "647.54",
         "312",
         "8.0",
         "ja",
         "Animation, Fantasy",
         "https://image.tmdb.org/t/p/original/k0ThmZQl5nHe4JefC2bXjqtgYp0.jpg"
        ],
        [
         "37",
         "2021-11-05",
         "One Shot",
         "An elite squad of Navy SEALs, on a covert mission to transport a prisoner off a CIA black site island prison, are trapped when insurgents attack while trying to rescue the same prisoner.",
         "622.24",
         "382",
         "6.8",
         "en",
         "Action",
         "https://image.tmdb.org/t/p/original/3OXiTjU30gWtqxmx4BU9RVp2OTv.jpg"
        ],
        [
         "38",
         "2022-01-24",
         "Tom and Jerry: Cowboy Up!",
         "This time, the rivals team up to help a cowgirl and her brother save their homestead from a greedy land-grabber, and they’re going to need some help! Jerry’s three precocious nephews are all ready for action, and Tom is rounding up a posse of prairie dogs. But can a ragtag band of varmints defeat a deceitful desperado determined to deceive a damsel in distress? No matter what happens with Tom and Jerry in the saddle, it’ll be a rootin’ tootin’ good time!",
         "614.11",
         "163",
         "7.1",
         "en",
         "Animation, Comedy, Family, Western",
         "https://image.tmdb.org/t/p/original/muIaHotSaSUQr0KZCIJOYQEe7y2.jpg"
        ],
        [
         "39",
         "2020-10-15",
         "Chernobyl: Abyss",
         "The aftermath of a shocking explosion at the Chernobyl nuclear power station made hundreds of people sacrifice their lives to clean up the site of the catastrophe and to successfully prevent an even bigger disaster that could have turned a large part of the European continent into an uninhabitable exclusion zone. This is their story.",
         "601.958",
         "314",
         "6.2",
         "ru",
         "Drama, History, Adventure",
         "https://image.tmdb.org/t/p/original/AmJLuHjxPdIJO6vmymeWADG6jK5.jpg"
        ],
        [
         "40",
         "2022-02-25",
         "Desperate Riders",
         "After Kansas Red rescues young Billy from a card-game shootout, the boy asks Red for help protecting his family from the outlaw Thorn, who’s just kidnapped Billy’s mother, Carol. As Red and Billy ride off to rescue Carol, they run into beautiful, tough-as-nails Leslie, who’s managed to escape Thorn’s men. The three race to stop Thorn’s wedding to Carol with guns a-blazing - but does she want to be rescued?",
         "590.474",
         "10",
         "6.8",
         "en",
         "Western, Action",
         "https://image.tmdb.org/t/p/original/7pYYGm1dWZGkbJuhcuaHD6nE6k7.jpg"
        ],
        [
         "41",
         "2021-11-10",
         "Clifford the Big Red Dog",
         "As Emily struggles to fit in at home and at school, she discovers a small red puppy who is destined to become her best friend. When Clifford magically undergoes one heck of a growth spurt, becomes a gigantic dog and attracts the attention of a genetics company, Emily and her Uncle Casey have to fight the forces of greed as they go on the run across New York City. Along the way, Clifford affects the lives of everyone around him and teaches Emily and her uncle the true meaning of acceptance and unconditional love.",
         "585.011",
         "1100",
         "7.3",
         "en",
         "Family, Adventure, Comedy, Fantasy",
         "https://image.tmdb.org/t/p/original/oifhfVhUcuDjE61V5bS5dfShQrm.jpg"
        ],
        [
         "42",
         "2022-02-25",
         "Tyler Perry's A Madea Homecoming",
         "Madea's back - hallelujer! And she's not putting up with any nonsense as family drama erupts at her great-grandson's college graduation celebration.",
         "577.591",
         "42",
         "6.7",
         "en",
         "Comedy",
         "https://image.tmdb.org/t/p/original/vzX5GNRTXsAltdU1tfASmZbzYmv.jpg"
        ],
        [
         "43",
         "2021-07-01",
         "The Boss Baby: Family Business",
         "The Templeton brothers — Tim and his Boss Baby little bro Ted — have become adults and drifted away from each other. But a new boss baby with a cutting-edge approach and a can-do attitude is about to bring them together again … and inspire a new family business.",
         "567.421",
         "1785",
         "7.6",
         "en",
         "Animation, Comedy, Adventure, Family",
         "https://image.tmdb.org/t/p/original/kv2Qk9MKFFQo4WQPaYta599HkJP.jpg"
        ],
        [
         "44",
         "2022-03-10",
         "Turning Red",
         "Thirteen-year-old Mei is experiencing the awkwardness of being a teenager with a twist – when she gets too excited, she transforms into a giant red panda.",
         "564.507",
         "8",
         "8.6",
         "en",
         "Animation, Family, Comedy, Fantasy",
         "https://image.tmdb.org/t/p/original/qsdjk9oAKSQMWs0Vt5Pyfh6O4GZ.jpg"
        ],
        [
         "45",
         "2022-01-13",
         "Brazen",
         "Mystery writer Grace Miller has killer instincts when it comes to motive - and she'll need every bit of expertise to help solve her sister's murder.",
         "553.141",
         "211",
         "4.8",
         "en",
         "Thriller, Mystery, Drama",
         "https://image.tmdb.org/t/p/original/7e4n1GfC9iky9VQzH3cDQz9wYpO.jpg"
        ],
        [
         "46",
         "2022-01-14",
         "The House",
         "Across different eras, a poor family, an anxious developer and a fed-up landlady become tied to the same mysterious house in this animated dark comedy.",
         "551.65",
         "432",
         "7.1",
         "en",
         "Animation, Drama, Comedy, Horror",
         "https://image.tmdb.org/t/p/original/iZjMFSKCrleKolC1gYcz5Rs8bk1.jpg"
        ],
        [
         "47",
         "2022-02-10",
         "Blacklight",
         "Travis Block is a shadowy Government agent who specializes in removing operatives whose covers have been exposed. He then has to uncover a deadly conspiracy within his own ranks that reaches the highest echelons of power.",
         "533.903",
         "88",
         "5.1",
         "en",
         "Action, Thriller",
         "https://image.tmdb.org/t/p/original/bv9dy8mnwftdY2j6gG39gCfSFpV.jpg"
        ],
        [
         "48",
         "2021-10-15",
         "Ron's Gone Wrong",
         "In a world where walking, talking, digitally connected bots have become children's best friends, an 11-year-old finds that his robot buddy doesn't quite work the same as the others do.",
         "509.277",
         "1000",
         "8.1",
         "en",
         "Animation, Science Fiction, Family, Comedy",
         "https://image.tmdb.org/t/p/original/7M0uwPgwvPONdFG0jk8TPK09xJU.jpg"
        ],
        [
         "49",
         "2021-08-11",
         "Free Guy",
         "A bank teller called Guy realizes he is a background character in an open world video game called Free City that will soon go offline.",
         "447.872",
         "5158",
         "7.7",
         "en",
         "Comedy, Action, Adventure, Science Fiction",
         "https://image.tmdb.org/t/p/original/xmbU4JTUm8rsdtn7Y3Fcm30GpeT.jpg"
        ]
       ],
       "shape": {
        "columns": 9,
        "rows": 9827
       }
      },
      "text/html": [
       "<div>\n",
       "<style scoped>\n",
       "    .dataframe tbody tr th:only-of-type {\n",
       "        vertical-align: middle;\n",
       "    }\n",
       "\n",
       "    .dataframe tbody tr th {\n",
       "        vertical-align: top;\n",
       "    }\n",
       "\n",
       "    .dataframe thead th {\n",
       "        text-align: right;\n",
       "    }\n",
       "</style>\n",
       "<table border=\"1\" class=\"dataframe\">\n",
       "  <thead>\n",
       "    <tr style=\"text-align: right;\">\n",
       "      <th></th>\n",
       "      <th>Release_Date</th>\n",
       "      <th>Title</th>\n",
       "      <th>Overview</th>\n",
       "      <th>Popularity</th>\n",
       "      <th>Vote_Count</th>\n",
       "      <th>Vote_Average</th>\n",
       "      <th>Original_Language</th>\n",
       "      <th>Genre</th>\n",
       "      <th>Poster_Url</th>\n",
       "    </tr>\n",
       "  </thead>\n",
       "  <tbody>\n",
       "    <tr>\n",
       "      <th>0</th>\n",
       "      <td>2021-12-15</td>\n",
       "      <td>Spider-Man: No Way Home</td>\n",
       "      <td>Peter Parker is unmasked and no longer able to...</td>\n",
       "      <td>5083.954</td>\n",
       "      <td>8940</td>\n",
       "      <td>8.3</td>\n",
       "      <td>en</td>\n",
       "      <td>Action, Adventure, Science Fiction</td>\n",
       "      <td>https://image.tmdb.org/t/p/original/1g0dhYtq4i...</td>\n",
       "    </tr>\n",
       "    <tr>\n",
       "      <th>1</th>\n",
       "      <td>2022-03-01</td>\n",
       "      <td>The Batman</td>\n",
       "      <td>In his second year of fighting crime, Batman u...</td>\n",
       "      <td>3827.658</td>\n",
       "      <td>1151</td>\n",
       "      <td>8.1</td>\n",
       "      <td>en</td>\n",
       "      <td>Crime, Mystery, Thriller</td>\n",
       "      <td>https://image.tmdb.org/t/p/original/74xTEgt7R3...</td>\n",
       "    </tr>\n",
       "    <tr>\n",
       "      <th>2</th>\n",
       "      <td>2022-02-25</td>\n",
       "      <td>No Exit</td>\n",
       "      <td>Stranded at a rest stop in the mountains durin...</td>\n",
       "      <td>2618.087</td>\n",
       "      <td>122</td>\n",
       "      <td>6.3</td>\n",
       "      <td>en</td>\n",
       "      <td>Thriller</td>\n",
       "      <td>https://image.tmdb.org/t/p/original/vDHsLnOWKl...</td>\n",
       "    </tr>\n",
       "    <tr>\n",
       "      <th>3</th>\n",
       "      <td>2021-11-24</td>\n",
       "      <td>Encanto</td>\n",
       "      <td>The tale of an extraordinary family, the Madri...</td>\n",
       "      <td>2402.201</td>\n",
       "      <td>5076</td>\n",
       "      <td>7.7</td>\n",
       "      <td>en</td>\n",
       "      <td>Animation, Comedy, Family, Fantasy</td>\n",
       "      <td>https://image.tmdb.org/t/p/original/4j0PNHkMr5...</td>\n",
       "    </tr>\n",
       "    <tr>\n",
       "      <th>4</th>\n",
       "      <td>2021-12-22</td>\n",
       "      <td>The King's Man</td>\n",
       "      <td>As a collection of history's worst tyrants and...</td>\n",
       "      <td>1895.511</td>\n",
       "      <td>1793</td>\n",
       "      <td>7.0</td>\n",
       "      <td>en</td>\n",
       "      <td>Action, Adventure, Thriller, War</td>\n",
       "      <td>https://image.tmdb.org/t/p/original/aq4Pwv5Xeu...</td>\n",
       "    </tr>\n",
       "    <tr>\n",
       "      <th>...</th>\n",
       "      <td>...</td>\n",
       "      <td>...</td>\n",
       "      <td>...</td>\n",
       "      <td>...</td>\n",
       "      <td>...</td>\n",
       "      <td>...</td>\n",
       "      <td>...</td>\n",
       "      <td>...</td>\n",
       "      <td>...</td>\n",
       "    </tr>\n",
       "    <tr>\n",
       "      <th>9822</th>\n",
       "      <td>1973-10-15</td>\n",
       "      <td>Badlands</td>\n",
       "      <td>A dramatization of the Starkweather-Fugate kil...</td>\n",
       "      <td>13.357</td>\n",
       "      <td>896</td>\n",
       "      <td>7.6</td>\n",
       "      <td>en</td>\n",
       "      <td>Drama, Crime</td>\n",
       "      <td>https://image.tmdb.org/t/p/original/z81rBzHNgi...</td>\n",
       "    </tr>\n",
       "    <tr>\n",
       "      <th>9823</th>\n",
       "      <td>2020-10-01</td>\n",
       "      <td>Violent Delights</td>\n",
       "      <td>A female vampire falls in love with a man she ...</td>\n",
       "      <td>13.356</td>\n",
       "      <td>8</td>\n",
       "      <td>3.5</td>\n",
       "      <td>es</td>\n",
       "      <td>Horror</td>\n",
       "      <td>https://image.tmdb.org/t/p/original/4b6HY7rud6...</td>\n",
       "    </tr>\n",
       "    <tr>\n",
       "      <th>9824</th>\n",
       "      <td>2016-05-06</td>\n",
       "      <td>The Offering</td>\n",
       "      <td>When young and successful reporter Jamie finds...</td>\n",
       "      <td>13.355</td>\n",
       "      <td>94</td>\n",
       "      <td>5.0</td>\n",
       "      <td>en</td>\n",
       "      <td>Mystery, Thriller, Horror</td>\n",
       "      <td>https://image.tmdb.org/t/p/original/h4uMM1wOhz...</td>\n",
       "    </tr>\n",
       "    <tr>\n",
       "      <th>9825</th>\n",
       "      <td>2021-03-31</td>\n",
       "      <td>The United States vs. Billie Holiday</td>\n",
       "      <td>Billie Holiday spent much of her career being ...</td>\n",
       "      <td>13.354</td>\n",
       "      <td>152</td>\n",
       "      <td>6.7</td>\n",
       "      <td>en</td>\n",
       "      <td>Music, Drama, History</td>\n",
       "      <td>https://image.tmdb.org/t/p/original/vEzkxuE2sJ...</td>\n",
       "    </tr>\n",
       "    <tr>\n",
       "      <th>9826</th>\n",
       "      <td>1984-09-23</td>\n",
       "      <td>Threads</td>\n",
       "      <td>Documentary style account of a nuclear holocau...</td>\n",
       "      <td>13.354</td>\n",
       "      <td>186</td>\n",
       "      <td>7.8</td>\n",
       "      <td>en</td>\n",
       "      <td>War, Drama, Science Fiction</td>\n",
       "      <td>https://image.tmdb.org/t/p/original/lBhU4U9Eeh...</td>\n",
       "    </tr>\n",
       "  </tbody>\n",
       "</table>\n",
       "<p>9827 rows × 9 columns</p>\n",
       "</div>"
      ],
      "text/plain": [
       "     Release_Date                                 Title  \\\n",
       "0      2021-12-15               Spider-Man: No Way Home   \n",
       "1      2022-03-01                            The Batman   \n",
       "2      2022-02-25                               No Exit   \n",
       "3      2021-11-24                               Encanto   \n",
       "4      2021-12-22                        The King's Man   \n",
       "...           ...                                   ...   \n",
       "9822   1973-10-15                              Badlands   \n",
       "9823   2020-10-01                      Violent Delights   \n",
       "9824   2016-05-06                          The Offering   \n",
       "9825   2021-03-31  The United States vs. Billie Holiday   \n",
       "9826   1984-09-23                               Threads   \n",
       "\n",
       "                                               Overview  Popularity  \\\n",
       "0     Peter Parker is unmasked and no longer able to...    5083.954   \n",
       "1     In his second year of fighting crime, Batman u...    3827.658   \n",
       "2     Stranded at a rest stop in the mountains durin...    2618.087   \n",
       "3     The tale of an extraordinary family, the Madri...    2402.201   \n",
       "4     As a collection of history's worst tyrants and...    1895.511   \n",
       "...                                                 ...         ...   \n",
       "9822  A dramatization of the Starkweather-Fugate kil...      13.357   \n",
       "9823  A female vampire falls in love with a man she ...      13.356   \n",
       "9824  When young and successful reporter Jamie finds...      13.355   \n",
       "9825  Billie Holiday spent much of her career being ...      13.354   \n",
       "9826  Documentary style account of a nuclear holocau...      13.354   \n",
       "\n",
       "      Vote_Count  Vote_Average Original_Language  \\\n",
       "0           8940           8.3                en   \n",
       "1           1151           8.1                en   \n",
       "2            122           6.3                en   \n",
       "3           5076           7.7                en   \n",
       "4           1793           7.0                en   \n",
       "...          ...           ...               ...   \n",
       "9822         896           7.6                en   \n",
       "9823           8           3.5                es   \n",
       "9824          94           5.0                en   \n",
       "9825         152           6.7                en   \n",
       "9826         186           7.8                en   \n",
       "\n",
       "                                   Genre  \\\n",
       "0     Action, Adventure, Science Fiction   \n",
       "1               Crime, Mystery, Thriller   \n",
       "2                               Thriller   \n",
       "3     Animation, Comedy, Family, Fantasy   \n",
       "4       Action, Adventure, Thriller, War   \n",
       "...                                  ...   \n",
       "9822                        Drama, Crime   \n",
       "9823                              Horror   \n",
       "9824           Mystery, Thriller, Horror   \n",
       "9825               Music, Drama, History   \n",
       "9826         War, Drama, Science Fiction   \n",
       "\n",
       "                                             Poster_Url  \n",
       "0     https://image.tmdb.org/t/p/original/1g0dhYtq4i...  \n",
       "1     https://image.tmdb.org/t/p/original/74xTEgt7R3...  \n",
       "2     https://image.tmdb.org/t/p/original/vDHsLnOWKl...  \n",
       "3     https://image.tmdb.org/t/p/original/4j0PNHkMr5...  \n",
       "4     https://image.tmdb.org/t/p/original/aq4Pwv5Xeu...  \n",
       "...                                                 ...  \n",
       "9822  https://image.tmdb.org/t/p/original/z81rBzHNgi...  \n",
       "9823  https://image.tmdb.org/t/p/original/4b6HY7rud6...  \n",
       "9824  https://image.tmdb.org/t/p/original/h4uMM1wOhz...  \n",
       "9825  https://image.tmdb.org/t/p/original/vEzkxuE2sJ...  \n",
       "9826  https://image.tmdb.org/t/p/original/lBhU4U9Eeh...  \n",
       "\n",
       "[9827 rows x 9 columns]"
      ]
     },
     "execution_count": 7,
     "metadata": {},
     "output_type": "execute_result"
    }
   ],
   "source": [
    "df.dropna()"
   ]
  },
  {
   "cell_type": "markdown",
   "metadata": {},
   "source": [
    "The above dataset has no NaN values"
   ]
  },
  {
   "cell_type": "markdown",
   "metadata": {},
   "source": [
    "#### Removing Duplicates"
   ]
  },
  {
   "cell_type": "code",
   "execution_count": 8,
   "metadata": {},
   "outputs": [
    {
     "data": {
      "text/plain": [
       "0       False\n",
       "1       False\n",
       "2       False\n",
       "3       False\n",
       "4       False\n",
       "        ...  \n",
       "9822    False\n",
       "9823    False\n",
       "9824    False\n",
       "9825    False\n",
       "9826    False\n",
       "Length: 9827, dtype: bool"
      ]
     },
     "execution_count": 8,
     "metadata": {},
     "output_type": "execute_result"
    }
   ],
   "source": [
    "df.duplicated()"
   ]
  },
  {
   "cell_type": "code",
   "execution_count": 9,
   "metadata": {},
   "outputs": [
    {
     "data": {
      "application/vnd.microsoft.datawrangler.viewer.v0+json": {
       "columns": [
        {
         "name": "index",
         "rawType": "int64",
         "type": "integer"
        },
        {
         "name": "Release_Date",
         "rawType": "object",
         "type": "string"
        },
        {
         "name": "Title",
         "rawType": "object",
         "type": "string"
        },
        {
         "name": "Overview",
         "rawType": "object",
         "type": "string"
        },
        {
         "name": "Popularity",
         "rawType": "float64",
         "type": "float"
        },
        {
         "name": "Vote_Count",
         "rawType": "int64",
         "type": "integer"
        },
        {
         "name": "Vote_Average",
         "rawType": "float64",
         "type": "float"
        },
        {
         "name": "Original_Language",
         "rawType": "object",
         "type": "string"
        },
        {
         "name": "Genre",
         "rawType": "object",
         "type": "string"
        },
        {
         "name": "Poster_Url",
         "rawType": "object",
         "type": "string"
        }
       ],
       "conversionMethod": "pd.DataFrame",
       "ref": "77218c45-8ed5-4120-8640-676371b0e3cc",
       "rows": [
        [
         "0",
         "2021-12-15",
         "Spider-Man: No Way Home",
         "Peter Parker is unmasked and no longer able to separate his normal life from the high-stakes of being a super-hero. When he asks for help from Doctor Strange the stakes become even more dangerous, forcing him to discover what it truly means to be Spider-Man.",
         "5083.954",
         "8940",
         "8.3",
         "en",
         "Action, Adventure, Science Fiction",
         "https://image.tmdb.org/t/p/original/1g0dhYtq4irTY1GPXvft6k4YLjm.jpg"
        ],
        [
         "1",
         "2022-03-01",
         "The Batman",
         "In his second year of fighting crime, Batman uncovers corruption in Gotham City that connects to his own family while facing a serial killer known as the Riddler.",
         "3827.658",
         "1151",
         "8.1",
         "en",
         "Crime, Mystery, Thriller",
         "https://image.tmdb.org/t/p/original/74xTEgt7R36Fpooo50r9T25onhq.jpg"
        ],
        [
         "2",
         "2022-02-25",
         "No Exit",
         "Stranded at a rest stop in the mountains during a blizzard, a recovering addict discovers a kidnapped child hidden in a car belonging to one of the people inside the building which sets her on a terrifying struggle to identify who among them is the kidnapper.",
         "2618.087",
         "122",
         "6.3",
         "en",
         "Thriller",
         "https://image.tmdb.org/t/p/original/vDHsLnOWKlPGmWs0kGfuhNF4w5l.jpg"
        ],
        [
         "3",
         "2021-11-24",
         "Encanto",
         "The tale of an extraordinary family, the Madrigals, who live hidden in the mountains of Colombia, in a magical house, in a vibrant town, in a wondrous, charmed place called an Encanto. The magic of the Encanto has blessed every child in the family with a unique gift from super strength to the power to heal—every child except one, Mirabel. But when she discovers that the magic surrounding the Encanto is in danger, Mirabel decides that she, the only ordinary Madrigal, might just be her exceptional family's last hope.",
         "2402.201",
         "5076",
         "7.7",
         "en",
         "Animation, Comedy, Family, Fantasy",
         "https://image.tmdb.org/t/p/original/4j0PNHkMr5ax3IA8tjtxcmPU3QT.jpg"
        ],
        [
         "4",
         "2021-12-22",
         "The King's Man",
         "As a collection of history's worst tyrants and criminal masterminds gather to plot a war to wipe out millions, one man must race against time to stop them.",
         "1895.511",
         "1793",
         "7.0",
         "en",
         "Action, Adventure, Thriller, War",
         "https://image.tmdb.org/t/p/original/aq4Pwv5Xeuvj6HZKtxyd23e6bE9.jpg"
        ],
        [
         "5",
         "2022-01-07",
         "The Commando",
         "An elite DEA agent returns home after a failed mission when his family makes an unexpected discovery in their house – a stash of money worth $3 million. They soon face the danger and threat of a newly released criminal and his crew, who will do whatever it takes to retrieve the money, including kidnap the agent’s daughters. Stakes are high and lives are at risk in this head-to-head battle as the agent stops at nothing to protect his family against the money-hungry criminals.",
         "1750.484",
         "33",
         "6.6",
         "en",
         "Action, Crime, Thriller",
         "https://image.tmdb.org/t/p/original/pSh8MyYu5CmfyWEHzv8FEARH2zq.jpg"
        ],
        [
         "6",
         "2022-01-12",
         "Scream",
         "Twenty-five years after a streak of brutal murders shocked the quiet town of Woodsboro, a new killer has donned the Ghostface mask and begins targeting a group of teenagers to resurrect secrets from the town’s deadly past.",
         "1675.161",
         "821",
         "6.8",
         "en",
         "Horror, Mystery, Thriller",
         "https://image.tmdb.org/t/p/original/kZNHR1upJKF3eTzdgl5V8s8a4C3.jpg"
        ],
        [
         "7",
         "2022-02-10",
         "Kimi",
         "A tech worker with agoraphobia discovers recorded evidence of a violent crime but is met with resistance when she tries to report it. Seeking justice, she must do the thing she fears the most: she must leave her apartment.",
         "1601.782",
         "206",
         "6.3",
         "en",
         "Thriller",
         "https://image.tmdb.org/t/p/original/okNgwtxIWzGsNlR3GsOS0i0Qgbn.jpg"
        ],
        [
         "8",
         "2022-02-17",
         "Fistful of Vengeance",
         "A revenge mission becomes a fight to save the world from an ancient threat when superpowered assassin Kai tracks a killer to Bangkok.",
         "1594.013",
         "114",
         "5.3",
         "en",
         "Action, Crime, Fantasy",
         "https://image.tmdb.org/t/p/original/3cccEF9QZgV9bLWyupJO41HSrOV.jpg"
        ],
        [
         "9",
         "2021-11-03",
         "Eternals",
         "The Eternals are a team of ancient aliens who have been living on Earth in secret for thousands of years. When an unexpected tragedy forces them out of the shadows, they are forced to reunite against mankind’s most ancient enemy, the Deviants.",
         "1537.406",
         "4726",
         "7.2",
         "en",
         "Science Fiction",
         "https://image.tmdb.org/t/p/original/zByhtBvX99ZiCQhac1sh9d9r6nb.jpg"
        ],
        [
         "10",
         "2022-02-18",
         "Pursuit",
         "Detective Breslin crosses paths with Calloway, a ruthless hacker desperate to find his wife, who has been kidnapped by a drug cartel. When Calloway escapes police custody, Breslin joins forces with a no-nonsense female cop to reclaim his prisoner. But is Calloway’s crime-boss father somehow involved in this explosive situation?",
         "1500.523",
         "16",
         "5.9",
         "en",
         "Action, Crime, Thriller",
         "https://image.tmdb.org/t/p/original/wYihSXWYqN8Ejsdut2P1P0o97N0.jpg"
        ],
        [
         "11",
         "2021-08-06",
         "My Hero Academia: World Heroes' Mission",
         "A mysterious group called Humarize strongly believes in the Quirk Singularity Doomsday theory which states that when quirks get mixed further in with future generations, that power will bring forth the end of humanity. In order to save everyone, the Pro-Heroes around the world ask UA Academy heroes-in-training to assist them and form a world-classic selected hero team. It is up to the heroes to save the world and the future of heroes in what is the most dangerous crisis to take place yet in My Hero Academia.",
         "1485.064",
         "100",
         "7.3",
         "ja",
         "Animation, Action, Fantasy, Adventure",
         "https://image.tmdb.org/t/p/original/4NUzcKtYPKkfTwKsLjwNt8nRIXV.jpg"
        ],
        [
         "12",
         "2022-02-25",
         "Restless",
         "After going to extremes to cover up an accident, a corrupt cop's life spirals out of control when he starts receiving threats from a mysterious witness.",
         "1468.377",
         "107",
         "5.9",
         "fr",
         "Action, Thriller, Crime",
         "https://image.tmdb.org/t/p/original/aw4GGsRwhQtyLsjzC7dsAahfCDY.jpg"
        ],
        [
         "13",
         "2021-12-02",
         "Nightmare Alley",
         "An ambitious carnival man with a talent for manipulating people with a few well-chosen words hooks up with a female psychiatrist who is even more dangerous than he is.",
         "1455.144",
         "952",
         "7.1",
         "en",
         "Crime, Drama, Thriller",
         "https://image.tmdb.org/t/p/original/680klE0dIreQQOyWKFgNnCAJtws.jpg"
        ],
        [
         "14",
         "2022-01-28",
         "The Ice Age Adventures of Buck Wild",
         "The fearless one-eyed weasel Buck teams up with mischievous possum brothers Crash & Eddie as they head off on a new adventure into Buck's home: The Dinosaur World.",
         "1431.307",
         "737",
         "7.1",
         "en",
         "Animation, Comedy, Adventure, Family",
         "https://image.tmdb.org/t/p/original/zzXFM4FKDG7l1ufrAkwQYv2xvnh.jpg"
        ],
        [
         "15",
         "2022-02-25",
         "Hotel Transylvania: Transformania",
         "When Van Helsing's mysterious invention, the \"Monsterfication Ray,\" goes haywire, Drac and his monster pals are all transformed into humans, and Johnny becomes a monster. In their new mismatched bodies, Drac and Johnny must team up and race across the globe to find a cure before it's too late, and before they drive each other crazy.",
         "1373.778",
         "288",
         "7.0",
         "en",
         "Animation, Family, Fantasy, Comedy, Adventure",
         "https://image.tmdb.org/t/p/original/teCy1egGQa0y8ULJvlrDHQKnxBL.jpg"
        ],
        [
         "16",
         "2022-02-18",
         "Texas Chainsaw Massacre",
         "In this sequel, influencers looking to breathe new life into a Texas ghost town encounter Leatherface, an infamous killer who wears a mask of human skin.",
         "1312.79",
         "521",
         "5.1",
         "en",
         "Horror",
         "https://image.tmdb.org/t/p/original/meRIRfADEGVo65xgPO6eZvJ0CRG.jpg"
        ],
        [
         "17",
         "2022-01-28",
         "The Requin",
         "A couple on a romantic getaway find themselves stranded at sea when a tropical storm sweeps away their villa. In order to survive, they are forced to fight the elements, while sharks circle below.",
         "1252.317",
         "65",
         "4.6",
         "en",
         "Thriller",
         "https://image.tmdb.org/t/p/original/i0z8g2VRZP3dhVvvSMilbOZMKqR.jpg"
        ],
        [
         "18",
         "2022-02-04",
         "Looop Lapeta",
         "When her boyfriend loses a mobster's cash, Savi races against the clock to save the day — if only she can break out of a curious cycle of dead ends.",
         "1240.946",
         "31",
         "6.0",
         "hi",
         "Action, Comedy, Crime",
         "https://image.tmdb.org/t/p/original/onGdT8sYi89drvSJyEJnft97rOq.jpg"
        ],
        [
         "19",
         "2021-11-04",
         "Red Notice",
         "An Interpol-issued Red Notice is a global alert to hunt and capture the world's most wanted. But when a daring heist brings together the FBI's top profiler and two rival criminals, there's no telling what will happen.",
         "1178.544",
         "3193",
         "6.8",
         "en",
         "Action, Comedy, Crime, Thriller",
         "https://image.tmdb.org/t/p/original/lAXONuqg41NwUMuzMiFvicDET9Y.jpg"
        ],
        [
         "20",
         "2021-12-01",
         "Sing 2",
         "Buster and his new cast now have their sights set on debuting a new show at the Crystal Tower Theater in glamorous Redshore City. But with no connections, he and his singers must sneak into the Crystal Entertainment offices, run by the ruthless wolf mogul Jimmy Crystal, where the gang pitches the ridiculous idea of casting the lion rock legend Clay Calloway in their show. Buster must embark on a quest to find the now-isolated Clay and persuade him to return to the stage.",
         "1112.9",
         "2172",
         "8.2",
         "en",
         "Animation, Comedy, Family, Music",
         "https://image.tmdb.org/t/p/original/aWeKITRFbbwY8txG5uCj4rMCfSP.jpg"
        ],
        [
         "21",
         "2022-01-03",
         "The Jack in the Box: Awakening",
         "When a vintage Jack-in-the-box is opened by a dying woman, she enters into a deal with the demon within that would see her illness cured in return for helping it claim six innocent victims.",
         "1096.79",
         "43",
         "5.4",
         "en",
         "Horror",
         "https://image.tmdb.org/t/p/original/3Ib8vlWTrAKRrTWUrTrZPOMW4jp.jpg"
        ],
        [
         "22",
         "2021-09-30",
         "Venom: Let There Be Carnage",
         "After finding a host body in investigative reporter Eddie Brock, the alien symbiote must face a new enemy, Carnage, the alter ego of serial killer Cletus Kasady.",
         "1053.615",
         "6539",
         "7.1",
         "en",
         "Science Fiction, Action, Adventure",
         "https://image.tmdb.org/t/p/original/rjkmN1dniUHVYAtwuV3Tji7FsDO.jpg"
        ],
        [
         "23",
         "2021-12-16",
         "The Matrix Resurrections",
         "Plagued by strange memories, Neo's life takes an unexpected turn when he finds himself back inside the Matrix.",
         "941.024",
         "3160",
         "6.8",
         "en",
         "Science Fiction, Action, Adventure",
         "https://image.tmdb.org/t/p/original/8c4a8kE7PizaGQQnditMmI1xbRp.jpg"
        ],
        [
         "24",
         "2021-11-24",
         "Resident Evil: Welcome to Raccoon City",
         "Once the booming home of pharmaceutical giant Umbrella Corporation, Raccoon City is now a dying Midwestern town. The company’s exodus left the city a wasteland…with great evil brewing below the surface. When that evil is unleashed, the townspeople are forever…changed…and a small group of survivors must work together to uncover the truth behind Umbrella and make it through the night.",
         "881.086",
         "1312",
         "6.1",
         "en",
         "Horror, Action, Science Fiction",
         "https://image.tmdb.org/t/p/original/7uRbWOXxpWDMtnsd2PF3clu65jc.jpg"
        ],
        [
         "25",
         "2021-10-19",
         "Last Man Down",
         "After civilization succumbs to a deadly pandemic and his wife is murdered, a special forces soldier abandons his duty and becomes a hermit in the Nordic wilderness. Years later, a wounded woman appears on his doorstep. She's escaped from a lab and her pursuers believe her blood is the key to a worldwide cure. He's hesitant to get involved, but all doubts are cast aside when he discovers her pursuer is none other than Commander Stone, the man that murdered his wife some years ago.",
         "869.605",
         "318",
         "6.3",
         "en",
         "Action, Thriller",
         "https://image.tmdb.org/t/p/original/4B7liCxNCZIZGONmAMkCnxVlZQV.jpg"
        ],
        [
         "26",
         "2022-01-07",
         "American Siege",
         "An ex-NYPD officer-turned-sheriff of a small rural Georgia town has to contend with a gang of thieves who have taken a wealthy doctor hostage.",
         "867.326",
         "49",
         "5.4",
         "en",
         "Action, Thriller, Crime, Drama",
         "https://image.tmdb.org/t/p/original/daeVrgyj0ue8qb3AHyU3UeCwoZz.jpg"
        ],
        [
         "27",
         "2022-02-10",
         "Uncharted",
         "A young street-smart, Nathan Drake and his wisecracking partner Victor “Sully” Sullivan embark on a dangerous pursuit of “the greatest treasure never found” while also tracking clues that may lead to Nathan’s long-lost brother.",
         "866.391",
         "691",
         "7.1",
         "en",
         "Action, Adventure",
         "https://image.tmdb.org/t/p/original/sqLowacltbZLoCa4KYye64RvvdQ.jpg"
        ],
        [
         "28",
         "2020-10-16",
         "Demon Slayer -Kimetsu no Yaiba- The Movie: Mugen Train",
         "Tanjirō Kamado, joined with Inosuke Hashibira, a boy raised by boars who wears a boar's head, and Zenitsu Agatsuma, a scared boy who reveals his true power when he sleeps, boards the Infinity Train on a new mission with the Fire Hashira, Kyōjurō Rengoku, to defeat a demon who has been tormenting the people and killing the demon slayers who oppose it!",
         "845.992",
         "2224",
         "8.4",
         "ja",
         "Animation, Action, Adventure, Fantasy",
         "https://image.tmdb.org/t/p/original/h8Rb9gBr48ODIwYUttZNYeMWeUU.jpg"
        ],
        [
         "29",
         "2021-11-11",
         "Ghostbusters: Afterlife",
         "When a single mom and her two kids arrive in a small town, they begin to discover their connection to the original Ghostbusters and the secret legacy their grandfather left behind.",
         "839.904",
         "2225",
         "7.7",
         "en",
         "Fantasy, Comedy, Adventure",
         "https://image.tmdb.org/t/p/original/sg4xJaufDiQl7caFEskBtQXfD4x.jpg"
        ],
        [
         "30",
         "2022-01-05",
         "The 355",
         "A group of top female agents from American, British, Chinese, Columbian and German  government agencies are drawn together to try and stop an organization from acquiring a deadly weapon to send the world into chaos.",
         "781.748",
         "313",
         "6.1",
         "en",
         "Action, Thriller",
         "https://image.tmdb.org/t/p/original/uQt2dJFMnJmAp9zLAWNfGilK0BW.jpg"
        ],
        [
         "31",
         "2021-09-01",
         "Shang-Chi and the Legend of the Ten Rings",
         "Shang-Chi must confront the past he thought he left behind when he is drawn into the web of the mysterious Ten Rings organization.",
         "769.185",
         "5845",
         "7.7",
         "en",
         "Action, Adventure, Fantasy",
         "https://image.tmdb.org/t/p/original/1BIoJGKbXjdFDAqUEiA2VHqkK1Z.jpg"
        ],
        [
         "32",
         "2022-02-09",
         "Marry Me",
         "Music superstars Kat Valdez and Bastian are getting married before a global audience of fans. But when Kat learns, seconds before her vows, that Bastian has been unfaithful, she decides to marry Charlie, a stranger in the crowd, instead.",
         "761.793",
         "230",
         "6.9",
         "en",
         "Romance, Comedy, Music",
         "https://image.tmdb.org/t/p/original/ko1JVbGj4bT8IhCWqjBQ6ZtF2t.jpg"
        ],
        [
         "33",
         "2022-01-21",
         "The Hunting",
         "When a mysterious animal attack leaves a mutilated body in the forest, a conservative small town detective must enlist the help of an eager wildlife specialist to uncover the dark and disturbing truth that threatens the town.",
         "761.127",
         "10",
         "5.8",
         "en",
         "Horror",
         "https://image.tmdb.org/t/p/original/kvhrltQIRp1u84ao9uj52YPaWNY.jpg"
        ],
        [
         "34",
         "2021-12-08",
         "West Side Story",
         "Two youngsters from rival New York City gangs fall in love, but tensions between their respective friends build toward tragedy.",
         "678.186",
         "562",
         "7.4",
         "en",
         "Drama, Romance, Crime",
         "https://image.tmdb.org/t/p/original/yfz3IUoYYSY32tkb97HlUBGFsnh.jpg"
        ],
        [
         "35",
         "2022-02-04",
         "Through My Window",
         "Raquel's longtime crush on her next-door neighbor turns into something more when he starts developing feelings for her, despite his family's objections.",
         "659.105",
         "1331",
         "7.8",
         "es",
         "Romance, Drama",
         "https://image.tmdb.org/t/p/original/6gg7fvKc1ZxP9yCczweSxIGYp4S.jpg"
        ],
        [
         "36",
         "2021-07-02",
         "The Seven Deadly Sins: Cursed by Light",
         "With the help of the \"Dragon Sin of Wrath\" Meliodas and the worst rebels in history, the Seven Deadly Sins, the \"Holy War\", in which four races, including Humans, Goddesses, Fairies and Giants fought against the Demons, is finally over. At the cost of the \"Lion Sin of Pride\" Escanor's life, the Demon King was defeated and the world regained peace. After that, each of the Sins take their own path.",
         "647.54",
         "312",
         "8.0",
         "ja",
         "Animation, Fantasy",
         "https://image.tmdb.org/t/p/original/k0ThmZQl5nHe4JefC2bXjqtgYp0.jpg"
        ],
        [
         "37",
         "2021-11-05",
         "One Shot",
         "An elite squad of Navy SEALs, on a covert mission to transport a prisoner off a CIA black site island prison, are trapped when insurgents attack while trying to rescue the same prisoner.",
         "622.24",
         "382",
         "6.8",
         "en",
         "Action",
         "https://image.tmdb.org/t/p/original/3OXiTjU30gWtqxmx4BU9RVp2OTv.jpg"
        ],
        [
         "38",
         "2022-01-24",
         "Tom and Jerry: Cowboy Up!",
         "This time, the rivals team up to help a cowgirl and her brother save their homestead from a greedy land-grabber, and they’re going to need some help! Jerry’s three precocious nephews are all ready for action, and Tom is rounding up a posse of prairie dogs. But can a ragtag band of varmints defeat a deceitful desperado determined to deceive a damsel in distress? No matter what happens with Tom and Jerry in the saddle, it’ll be a rootin’ tootin’ good time!",
         "614.11",
         "163",
         "7.1",
         "en",
         "Animation, Comedy, Family, Western",
         "https://image.tmdb.org/t/p/original/muIaHotSaSUQr0KZCIJOYQEe7y2.jpg"
        ],
        [
         "39",
         "2020-10-15",
         "Chernobyl: Abyss",
         "The aftermath of a shocking explosion at the Chernobyl nuclear power station made hundreds of people sacrifice their lives to clean up the site of the catastrophe and to successfully prevent an even bigger disaster that could have turned a large part of the European continent into an uninhabitable exclusion zone. This is their story.",
         "601.958",
         "314",
         "6.2",
         "ru",
         "Drama, History, Adventure",
         "https://image.tmdb.org/t/p/original/AmJLuHjxPdIJO6vmymeWADG6jK5.jpg"
        ],
        [
         "40",
         "2022-02-25",
         "Desperate Riders",
         "After Kansas Red rescues young Billy from a card-game shootout, the boy asks Red for help protecting his family from the outlaw Thorn, who’s just kidnapped Billy’s mother, Carol. As Red and Billy ride off to rescue Carol, they run into beautiful, tough-as-nails Leslie, who’s managed to escape Thorn’s men. The three race to stop Thorn’s wedding to Carol with guns a-blazing - but does she want to be rescued?",
         "590.474",
         "10",
         "6.8",
         "en",
         "Western, Action",
         "https://image.tmdb.org/t/p/original/7pYYGm1dWZGkbJuhcuaHD6nE6k7.jpg"
        ],
        [
         "41",
         "2021-11-10",
         "Clifford the Big Red Dog",
         "As Emily struggles to fit in at home and at school, she discovers a small red puppy who is destined to become her best friend. When Clifford magically undergoes one heck of a growth spurt, becomes a gigantic dog and attracts the attention of a genetics company, Emily and her Uncle Casey have to fight the forces of greed as they go on the run across New York City. Along the way, Clifford affects the lives of everyone around him and teaches Emily and her uncle the true meaning of acceptance and unconditional love.",
         "585.011",
         "1100",
         "7.3",
         "en",
         "Family, Adventure, Comedy, Fantasy",
         "https://image.tmdb.org/t/p/original/oifhfVhUcuDjE61V5bS5dfShQrm.jpg"
        ],
        [
         "42",
         "2022-02-25",
         "Tyler Perry's A Madea Homecoming",
         "Madea's back - hallelujer! And she's not putting up with any nonsense as family drama erupts at her great-grandson's college graduation celebration.",
         "577.591",
         "42",
         "6.7",
         "en",
         "Comedy",
         "https://image.tmdb.org/t/p/original/vzX5GNRTXsAltdU1tfASmZbzYmv.jpg"
        ],
        [
         "43",
         "2021-07-01",
         "The Boss Baby: Family Business",
         "The Templeton brothers — Tim and his Boss Baby little bro Ted — have become adults and drifted away from each other. But a new boss baby with a cutting-edge approach and a can-do attitude is about to bring them together again … and inspire a new family business.",
         "567.421",
         "1785",
         "7.6",
         "en",
         "Animation, Comedy, Adventure, Family",
         "https://image.tmdb.org/t/p/original/kv2Qk9MKFFQo4WQPaYta599HkJP.jpg"
        ],
        [
         "44",
         "2022-03-10",
         "Turning Red",
         "Thirteen-year-old Mei is experiencing the awkwardness of being a teenager with a twist – when she gets too excited, she transforms into a giant red panda.",
         "564.507",
         "8",
         "8.6",
         "en",
         "Animation, Family, Comedy, Fantasy",
         "https://image.tmdb.org/t/p/original/qsdjk9oAKSQMWs0Vt5Pyfh6O4GZ.jpg"
        ],
        [
         "45",
         "2022-01-13",
         "Brazen",
         "Mystery writer Grace Miller has killer instincts when it comes to motive - and she'll need every bit of expertise to help solve her sister's murder.",
         "553.141",
         "211",
         "4.8",
         "en",
         "Thriller, Mystery, Drama",
         "https://image.tmdb.org/t/p/original/7e4n1GfC9iky9VQzH3cDQz9wYpO.jpg"
        ],
        [
         "46",
         "2022-01-14",
         "The House",
         "Across different eras, a poor family, an anxious developer and a fed-up landlady become tied to the same mysterious house in this animated dark comedy.",
         "551.65",
         "432",
         "7.1",
         "en",
         "Animation, Drama, Comedy, Horror",
         "https://image.tmdb.org/t/p/original/iZjMFSKCrleKolC1gYcz5Rs8bk1.jpg"
        ],
        [
         "47",
         "2022-02-10",
         "Blacklight",
         "Travis Block is a shadowy Government agent who specializes in removing operatives whose covers have been exposed. He then has to uncover a deadly conspiracy within his own ranks that reaches the highest echelons of power.",
         "533.903",
         "88",
         "5.1",
         "en",
         "Action, Thriller",
         "https://image.tmdb.org/t/p/original/bv9dy8mnwftdY2j6gG39gCfSFpV.jpg"
        ],
        [
         "48",
         "2021-10-15",
         "Ron's Gone Wrong",
         "In a world where walking, talking, digitally connected bots have become children's best friends, an 11-year-old finds that his robot buddy doesn't quite work the same as the others do.",
         "509.277",
         "1000",
         "8.1",
         "en",
         "Animation, Science Fiction, Family, Comedy",
         "https://image.tmdb.org/t/p/original/7M0uwPgwvPONdFG0jk8TPK09xJU.jpg"
        ],
        [
         "49",
         "2021-08-11",
         "Free Guy",
         "A bank teller called Guy realizes he is a background character in an open world video game called Free City that will soon go offline.",
         "447.872",
         "5158",
         "7.7",
         "en",
         "Comedy, Action, Adventure, Science Fiction",
         "https://image.tmdb.org/t/p/original/xmbU4JTUm8rsdtn7Y3Fcm30GpeT.jpg"
        ]
       ],
       "shape": {
        "columns": 9,
        "rows": 9827
       }
      },
      "text/html": [
       "<div>\n",
       "<style scoped>\n",
       "    .dataframe tbody tr th:only-of-type {\n",
       "        vertical-align: middle;\n",
       "    }\n",
       "\n",
       "    .dataframe tbody tr th {\n",
       "        vertical-align: top;\n",
       "    }\n",
       "\n",
       "    .dataframe thead th {\n",
       "        text-align: right;\n",
       "    }\n",
       "</style>\n",
       "<table border=\"1\" class=\"dataframe\">\n",
       "  <thead>\n",
       "    <tr style=\"text-align: right;\">\n",
       "      <th></th>\n",
       "      <th>Release_Date</th>\n",
       "      <th>Title</th>\n",
       "      <th>Overview</th>\n",
       "      <th>Popularity</th>\n",
       "      <th>Vote_Count</th>\n",
       "      <th>Vote_Average</th>\n",
       "      <th>Original_Language</th>\n",
       "      <th>Genre</th>\n",
       "      <th>Poster_Url</th>\n",
       "    </tr>\n",
       "  </thead>\n",
       "  <tbody>\n",
       "    <tr>\n",
       "      <th>0</th>\n",
       "      <td>2021-12-15</td>\n",
       "      <td>Spider-Man: No Way Home</td>\n",
       "      <td>Peter Parker is unmasked and no longer able to...</td>\n",
       "      <td>5083.954</td>\n",
       "      <td>8940</td>\n",
       "      <td>8.3</td>\n",
       "      <td>en</td>\n",
       "      <td>Action, Adventure, Science Fiction</td>\n",
       "      <td>https://image.tmdb.org/t/p/original/1g0dhYtq4i...</td>\n",
       "    </tr>\n",
       "    <tr>\n",
       "      <th>1</th>\n",
       "      <td>2022-03-01</td>\n",
       "      <td>The Batman</td>\n",
       "      <td>In his second year of fighting crime, Batman u...</td>\n",
       "      <td>3827.658</td>\n",
       "      <td>1151</td>\n",
       "      <td>8.1</td>\n",
       "      <td>en</td>\n",
       "      <td>Crime, Mystery, Thriller</td>\n",
       "      <td>https://image.tmdb.org/t/p/original/74xTEgt7R3...</td>\n",
       "    </tr>\n",
       "    <tr>\n",
       "      <th>2</th>\n",
       "      <td>2022-02-25</td>\n",
       "      <td>No Exit</td>\n",
       "      <td>Stranded at a rest stop in the mountains durin...</td>\n",
       "      <td>2618.087</td>\n",
       "      <td>122</td>\n",
       "      <td>6.3</td>\n",
       "      <td>en</td>\n",
       "      <td>Thriller</td>\n",
       "      <td>https://image.tmdb.org/t/p/original/vDHsLnOWKl...</td>\n",
       "    </tr>\n",
       "    <tr>\n",
       "      <th>3</th>\n",
       "      <td>2021-11-24</td>\n",
       "      <td>Encanto</td>\n",
       "      <td>The tale of an extraordinary family, the Madri...</td>\n",
       "      <td>2402.201</td>\n",
       "      <td>5076</td>\n",
       "      <td>7.7</td>\n",
       "      <td>en</td>\n",
       "      <td>Animation, Comedy, Family, Fantasy</td>\n",
       "      <td>https://image.tmdb.org/t/p/original/4j0PNHkMr5...</td>\n",
       "    </tr>\n",
       "    <tr>\n",
       "      <th>4</th>\n",
       "      <td>2021-12-22</td>\n",
       "      <td>The King's Man</td>\n",
       "      <td>As a collection of history's worst tyrants and...</td>\n",
       "      <td>1895.511</td>\n",
       "      <td>1793</td>\n",
       "      <td>7.0</td>\n",
       "      <td>en</td>\n",
       "      <td>Action, Adventure, Thriller, War</td>\n",
       "      <td>https://image.tmdb.org/t/p/original/aq4Pwv5Xeu...</td>\n",
       "    </tr>\n",
       "    <tr>\n",
       "      <th>...</th>\n",
       "      <td>...</td>\n",
       "      <td>...</td>\n",
       "      <td>...</td>\n",
       "      <td>...</td>\n",
       "      <td>...</td>\n",
       "      <td>...</td>\n",
       "      <td>...</td>\n",
       "      <td>...</td>\n",
       "      <td>...</td>\n",
       "    </tr>\n",
       "    <tr>\n",
       "      <th>9822</th>\n",
       "      <td>1973-10-15</td>\n",
       "      <td>Badlands</td>\n",
       "      <td>A dramatization of the Starkweather-Fugate kil...</td>\n",
       "      <td>13.357</td>\n",
       "      <td>896</td>\n",
       "      <td>7.6</td>\n",
       "      <td>en</td>\n",
       "      <td>Drama, Crime</td>\n",
       "      <td>https://image.tmdb.org/t/p/original/z81rBzHNgi...</td>\n",
       "    </tr>\n",
       "    <tr>\n",
       "      <th>9823</th>\n",
       "      <td>2020-10-01</td>\n",
       "      <td>Violent Delights</td>\n",
       "      <td>A female vampire falls in love with a man she ...</td>\n",
       "      <td>13.356</td>\n",
       "      <td>8</td>\n",
       "      <td>3.5</td>\n",
       "      <td>es</td>\n",
       "      <td>Horror</td>\n",
       "      <td>https://image.tmdb.org/t/p/original/4b6HY7rud6...</td>\n",
       "    </tr>\n",
       "    <tr>\n",
       "      <th>9824</th>\n",
       "      <td>2016-05-06</td>\n",
       "      <td>The Offering</td>\n",
       "      <td>When young and successful reporter Jamie finds...</td>\n",
       "      <td>13.355</td>\n",
       "      <td>94</td>\n",
       "      <td>5.0</td>\n",
       "      <td>en</td>\n",
       "      <td>Mystery, Thriller, Horror</td>\n",
       "      <td>https://image.tmdb.org/t/p/original/h4uMM1wOhz...</td>\n",
       "    </tr>\n",
       "    <tr>\n",
       "      <th>9825</th>\n",
       "      <td>2021-03-31</td>\n",
       "      <td>The United States vs. Billie Holiday</td>\n",
       "      <td>Billie Holiday spent much of her career being ...</td>\n",
       "      <td>13.354</td>\n",
       "      <td>152</td>\n",
       "      <td>6.7</td>\n",
       "      <td>en</td>\n",
       "      <td>Music, Drama, History</td>\n",
       "      <td>https://image.tmdb.org/t/p/original/vEzkxuE2sJ...</td>\n",
       "    </tr>\n",
       "    <tr>\n",
       "      <th>9826</th>\n",
       "      <td>1984-09-23</td>\n",
       "      <td>Threads</td>\n",
       "      <td>Documentary style account of a nuclear holocau...</td>\n",
       "      <td>13.354</td>\n",
       "      <td>186</td>\n",
       "      <td>7.8</td>\n",
       "      <td>en</td>\n",
       "      <td>War, Drama, Science Fiction</td>\n",
       "      <td>https://image.tmdb.org/t/p/original/lBhU4U9Eeh...</td>\n",
       "    </tr>\n",
       "  </tbody>\n",
       "</table>\n",
       "<p>9827 rows × 9 columns</p>\n",
       "</div>"
      ],
      "text/plain": [
       "     Release_Date                                 Title  \\\n",
       "0      2021-12-15               Spider-Man: No Way Home   \n",
       "1      2022-03-01                            The Batman   \n",
       "2      2022-02-25                               No Exit   \n",
       "3      2021-11-24                               Encanto   \n",
       "4      2021-12-22                        The King's Man   \n",
       "...           ...                                   ...   \n",
       "9822   1973-10-15                              Badlands   \n",
       "9823   2020-10-01                      Violent Delights   \n",
       "9824   2016-05-06                          The Offering   \n",
       "9825   2021-03-31  The United States vs. Billie Holiday   \n",
       "9826   1984-09-23                               Threads   \n",
       "\n",
       "                                               Overview  Popularity  \\\n",
       "0     Peter Parker is unmasked and no longer able to...    5083.954   \n",
       "1     In his second year of fighting crime, Batman u...    3827.658   \n",
       "2     Stranded at a rest stop in the mountains durin...    2618.087   \n",
       "3     The tale of an extraordinary family, the Madri...    2402.201   \n",
       "4     As a collection of history's worst tyrants and...    1895.511   \n",
       "...                                                 ...         ...   \n",
       "9822  A dramatization of the Starkweather-Fugate kil...      13.357   \n",
       "9823  A female vampire falls in love with a man she ...      13.356   \n",
       "9824  When young and successful reporter Jamie finds...      13.355   \n",
       "9825  Billie Holiday spent much of her career being ...      13.354   \n",
       "9826  Documentary style account of a nuclear holocau...      13.354   \n",
       "\n",
       "      Vote_Count  Vote_Average Original_Language  \\\n",
       "0           8940           8.3                en   \n",
       "1           1151           8.1                en   \n",
       "2            122           6.3                en   \n",
       "3           5076           7.7                en   \n",
       "4           1793           7.0                en   \n",
       "...          ...           ...               ...   \n",
       "9822         896           7.6                en   \n",
       "9823           8           3.5                es   \n",
       "9824          94           5.0                en   \n",
       "9825         152           6.7                en   \n",
       "9826         186           7.8                en   \n",
       "\n",
       "                                   Genre  \\\n",
       "0     Action, Adventure, Science Fiction   \n",
       "1               Crime, Mystery, Thriller   \n",
       "2                               Thriller   \n",
       "3     Animation, Comedy, Family, Fantasy   \n",
       "4       Action, Adventure, Thriller, War   \n",
       "...                                  ...   \n",
       "9822                        Drama, Crime   \n",
       "9823                              Horror   \n",
       "9824           Mystery, Thriller, Horror   \n",
       "9825               Music, Drama, History   \n",
       "9826         War, Drama, Science Fiction   \n",
       "\n",
       "                                             Poster_Url  \n",
       "0     https://image.tmdb.org/t/p/original/1g0dhYtq4i...  \n",
       "1     https://image.tmdb.org/t/p/original/74xTEgt7R3...  \n",
       "2     https://image.tmdb.org/t/p/original/vDHsLnOWKl...  \n",
       "3     https://image.tmdb.org/t/p/original/4j0PNHkMr5...  \n",
       "4     https://image.tmdb.org/t/p/original/aq4Pwv5Xeu...  \n",
       "...                                                 ...  \n",
       "9822  https://image.tmdb.org/t/p/original/z81rBzHNgi...  \n",
       "9823  https://image.tmdb.org/t/p/original/4b6HY7rud6...  \n",
       "9824  https://image.tmdb.org/t/p/original/h4uMM1wOhz...  \n",
       "9825  https://image.tmdb.org/t/p/original/vEzkxuE2sJ...  \n",
       "9826  https://image.tmdb.org/t/p/original/lBhU4U9Eeh...  \n",
       "\n",
       "[9827 rows x 9 columns]"
      ]
     },
     "execution_count": 9,
     "metadata": {},
     "output_type": "execute_result"
    }
   ],
   "source": [
    "df.drop_duplicates(keep='first')"
   ]
  },
  {
   "cell_type": "markdown",
   "metadata": {},
   "source": [
    "The above dataset has no duplicate rows"
   ]
  },
  {
   "cell_type": "markdown",
   "metadata": {},
   "source": [
    "#### Removing unwanted columns"
   ]
  },
  {
   "cell_type": "markdown",
   "metadata": {},
   "source": [
    "Columns like 'Overview', 'Original_Language' and 'Poster_Url' are not required for Data Analysis"
   ]
  },
  {
   "cell_type": "code",
   "execution_count": 10,
   "metadata": {},
   "outputs": [],
   "source": [
    "df = df.drop(labels=['Overview', 'Original_Language', 'Poster_Url'], axis=1)"
   ]
  },
  {
   "cell_type": "code",
   "execution_count": 11,
   "metadata": {},
   "outputs": [
    {
     "data": {
      "application/vnd.microsoft.datawrangler.viewer.v0+json": {
       "columns": [
        {
         "name": "index",
         "rawType": "int64",
         "type": "integer"
        },
        {
         "name": "Release_Date",
         "rawType": "object",
         "type": "string"
        },
        {
         "name": "Title",
         "rawType": "object",
         "type": "string"
        },
        {
         "name": "Popularity",
         "rawType": "float64",
         "type": "float"
        },
        {
         "name": "Vote_Count",
         "rawType": "int64",
         "type": "integer"
        },
        {
         "name": "Vote_Average",
         "rawType": "float64",
         "type": "float"
        },
        {
         "name": "Genre",
         "rawType": "object",
         "type": "string"
        }
       ],
       "conversionMethod": "pd.DataFrame",
       "ref": "b9a3a260-4cca-4358-84ad-dfcf968c09f9",
       "rows": [
        [
         "0",
         "2021-12-15",
         "Spider-Man: No Way Home",
         "5083.954",
         "8940",
         "8.3",
         "Action, Adventure, Science Fiction"
        ],
        [
         "1",
         "2022-03-01",
         "The Batman",
         "3827.658",
         "1151",
         "8.1",
         "Crime, Mystery, Thriller"
        ],
        [
         "2",
         "2022-02-25",
         "No Exit",
         "2618.087",
         "122",
         "6.3",
         "Thriller"
        ],
        [
         "3",
         "2021-11-24",
         "Encanto",
         "2402.201",
         "5076",
         "7.7",
         "Animation, Comedy, Family, Fantasy"
        ],
        [
         "4",
         "2021-12-22",
         "The King's Man",
         "1895.511",
         "1793",
         "7.0",
         "Action, Adventure, Thriller, War"
        ]
       ],
       "shape": {
        "columns": 6,
        "rows": 5
       }
      },
      "text/html": [
       "<div>\n",
       "<style scoped>\n",
       "    .dataframe tbody tr th:only-of-type {\n",
       "        vertical-align: middle;\n",
       "    }\n",
       "\n",
       "    .dataframe tbody tr th {\n",
       "        vertical-align: top;\n",
       "    }\n",
       "\n",
       "    .dataframe thead th {\n",
       "        text-align: right;\n",
       "    }\n",
       "</style>\n",
       "<table border=\"1\" class=\"dataframe\">\n",
       "  <thead>\n",
       "    <tr style=\"text-align: right;\">\n",
       "      <th></th>\n",
       "      <th>Release_Date</th>\n",
       "      <th>Title</th>\n",
       "      <th>Popularity</th>\n",
       "      <th>Vote_Count</th>\n",
       "      <th>Vote_Average</th>\n",
       "      <th>Genre</th>\n",
       "    </tr>\n",
       "  </thead>\n",
       "  <tbody>\n",
       "    <tr>\n",
       "      <th>0</th>\n",
       "      <td>2021-12-15</td>\n",
       "      <td>Spider-Man: No Way Home</td>\n",
       "      <td>5083.954</td>\n",
       "      <td>8940</td>\n",
       "      <td>8.3</td>\n",
       "      <td>Action, Adventure, Science Fiction</td>\n",
       "    </tr>\n",
       "    <tr>\n",
       "      <th>1</th>\n",
       "      <td>2022-03-01</td>\n",
       "      <td>The Batman</td>\n",
       "      <td>3827.658</td>\n",
       "      <td>1151</td>\n",
       "      <td>8.1</td>\n",
       "      <td>Crime, Mystery, Thriller</td>\n",
       "    </tr>\n",
       "    <tr>\n",
       "      <th>2</th>\n",
       "      <td>2022-02-25</td>\n",
       "      <td>No Exit</td>\n",
       "      <td>2618.087</td>\n",
       "      <td>122</td>\n",
       "      <td>6.3</td>\n",
       "      <td>Thriller</td>\n",
       "    </tr>\n",
       "    <tr>\n",
       "      <th>3</th>\n",
       "      <td>2021-11-24</td>\n",
       "      <td>Encanto</td>\n",
       "      <td>2402.201</td>\n",
       "      <td>5076</td>\n",
       "      <td>7.7</td>\n",
       "      <td>Animation, Comedy, Family, Fantasy</td>\n",
       "    </tr>\n",
       "    <tr>\n",
       "      <th>4</th>\n",
       "      <td>2021-12-22</td>\n",
       "      <td>The King's Man</td>\n",
       "      <td>1895.511</td>\n",
       "      <td>1793</td>\n",
       "      <td>7.0</td>\n",
       "      <td>Action, Adventure, Thriller, War</td>\n",
       "    </tr>\n",
       "  </tbody>\n",
       "</table>\n",
       "</div>"
      ],
      "text/plain": [
       "  Release_Date                    Title  Popularity  Vote_Count  Vote_Average  \\\n",
       "0   2021-12-15  Spider-Man: No Way Home    5083.954        8940           8.3   \n",
       "1   2022-03-01               The Batman    3827.658        1151           8.1   \n",
       "2   2022-02-25                  No Exit    2618.087         122           6.3   \n",
       "3   2021-11-24                  Encanto    2402.201        5076           7.7   \n",
       "4   2021-12-22           The King's Man    1895.511        1793           7.0   \n",
       "\n",
       "                                Genre  \n",
       "0  Action, Adventure, Science Fiction  \n",
       "1            Crime, Mystery, Thriller  \n",
       "2                            Thriller  \n",
       "3  Animation, Comedy, Family, Fantasy  \n",
       "4    Action, Adventure, Thriller, War  "
      ]
     },
     "execution_count": 11,
     "metadata": {},
     "output_type": "execute_result"
    }
   ],
   "source": [
    "df.head()"
   ]
  },
  {
   "cell_type": "markdown",
   "metadata": {},
   "source": [
    "#### Changing the type of data in 'Release_Date' column"
   ]
  },
  {
   "cell_type": "markdown",
   "metadata": {},
   "source": [
    "'2021-12-15' is inefficient for data analysis. So it is changed to '2021' only."
   ]
  },
  {
   "cell_type": "code",
   "execution_count": 12,
   "metadata": {},
   "outputs": [],
   "source": [
    "df['Release_Date'] = pd.to_datetime(df['Release_Date']).dt.year.astype(int)"
   ]
  },
  {
   "cell_type": "code",
   "execution_count": 13,
   "metadata": {},
   "outputs": [
    {
     "data": {
      "application/vnd.microsoft.datawrangler.viewer.v0+json": {
       "columns": [
        {
         "name": "index",
         "rawType": "int64",
         "type": "integer"
        },
        {
         "name": "Release_Date",
         "rawType": "int64",
         "type": "integer"
        },
        {
         "name": "Title",
         "rawType": "object",
         "type": "string"
        },
        {
         "name": "Popularity",
         "rawType": "float64",
         "type": "float"
        },
        {
         "name": "Vote_Count",
         "rawType": "int64",
         "type": "integer"
        },
        {
         "name": "Vote_Average",
         "rawType": "float64",
         "type": "float"
        },
        {
         "name": "Genre",
         "rawType": "object",
         "type": "string"
        }
       ],
       "conversionMethod": "pd.DataFrame",
       "ref": "a1945c9d-2992-4947-9ad9-7df763a80ef8",
       "rows": [
        [
         "0",
         "2021",
         "Spider-Man: No Way Home",
         "5083.954",
         "8940",
         "8.3",
         "Action, Adventure, Science Fiction"
        ],
        [
         "1",
         "2022",
         "The Batman",
         "3827.658",
         "1151",
         "8.1",
         "Crime, Mystery, Thriller"
        ],
        [
         "2",
         "2022",
         "No Exit",
         "2618.087",
         "122",
         "6.3",
         "Thriller"
        ],
        [
         "3",
         "2021",
         "Encanto",
         "2402.201",
         "5076",
         "7.7",
         "Animation, Comedy, Family, Fantasy"
        ],
        [
         "4",
         "2021",
         "The King's Man",
         "1895.511",
         "1793",
         "7.0",
         "Action, Adventure, Thriller, War"
        ]
       ],
       "shape": {
        "columns": 6,
        "rows": 5
       }
      },
      "text/html": [
       "<div>\n",
       "<style scoped>\n",
       "    .dataframe tbody tr th:only-of-type {\n",
       "        vertical-align: middle;\n",
       "    }\n",
       "\n",
       "    .dataframe tbody tr th {\n",
       "        vertical-align: top;\n",
       "    }\n",
       "\n",
       "    .dataframe thead th {\n",
       "        text-align: right;\n",
       "    }\n",
       "</style>\n",
       "<table border=\"1\" class=\"dataframe\">\n",
       "  <thead>\n",
       "    <tr style=\"text-align: right;\">\n",
       "      <th></th>\n",
       "      <th>Release_Date</th>\n",
       "      <th>Title</th>\n",
       "      <th>Popularity</th>\n",
       "      <th>Vote_Count</th>\n",
       "      <th>Vote_Average</th>\n",
       "      <th>Genre</th>\n",
       "    </tr>\n",
       "  </thead>\n",
       "  <tbody>\n",
       "    <tr>\n",
       "      <th>0</th>\n",
       "      <td>2021</td>\n",
       "      <td>Spider-Man: No Way Home</td>\n",
       "      <td>5083.954</td>\n",
       "      <td>8940</td>\n",
       "      <td>8.3</td>\n",
       "      <td>Action, Adventure, Science Fiction</td>\n",
       "    </tr>\n",
       "    <tr>\n",
       "      <th>1</th>\n",
       "      <td>2022</td>\n",
       "      <td>The Batman</td>\n",
       "      <td>3827.658</td>\n",
       "      <td>1151</td>\n",
       "      <td>8.1</td>\n",
       "      <td>Crime, Mystery, Thriller</td>\n",
       "    </tr>\n",
       "    <tr>\n",
       "      <th>2</th>\n",
       "      <td>2022</td>\n",
       "      <td>No Exit</td>\n",
       "      <td>2618.087</td>\n",
       "      <td>122</td>\n",
       "      <td>6.3</td>\n",
       "      <td>Thriller</td>\n",
       "    </tr>\n",
       "    <tr>\n",
       "      <th>3</th>\n",
       "      <td>2021</td>\n",
       "      <td>Encanto</td>\n",
       "      <td>2402.201</td>\n",
       "      <td>5076</td>\n",
       "      <td>7.7</td>\n",
       "      <td>Animation, Comedy, Family, Fantasy</td>\n",
       "    </tr>\n",
       "    <tr>\n",
       "      <th>4</th>\n",
       "      <td>2021</td>\n",
       "      <td>The King's Man</td>\n",
       "      <td>1895.511</td>\n",
       "      <td>1793</td>\n",
       "      <td>7.0</td>\n",
       "      <td>Action, Adventure, Thriller, War</td>\n",
       "    </tr>\n",
       "  </tbody>\n",
       "</table>\n",
       "</div>"
      ],
      "text/plain": [
       "   Release_Date                    Title  Popularity  Vote_Count  \\\n",
       "0          2021  Spider-Man: No Way Home    5083.954        8940   \n",
       "1          2022               The Batman    3827.658        1151   \n",
       "2          2022                  No Exit    2618.087         122   \n",
       "3          2021                  Encanto    2402.201        5076   \n",
       "4          2021           The King's Man    1895.511        1793   \n",
       "\n",
       "   Vote_Average                               Genre  \n",
       "0           8.3  Action, Adventure, Science Fiction  \n",
       "1           8.1            Crime, Mystery, Thriller  \n",
       "2           6.3                            Thriller  \n",
       "3           7.7  Animation, Comedy, Family, Fantasy  \n",
       "4           7.0    Action, Adventure, Thriller, War  "
      ]
     },
     "execution_count": 13,
     "metadata": {},
     "output_type": "execute_result"
    }
   ],
   "source": [
    "df.head()"
   ]
  },
  {
   "cell_type": "markdown",
   "metadata": {},
   "source": [
    "#### Problem in Genre"
   ]
  },
  {
   "cell_type": "markdown",
   "metadata": {},
   "source": [
    "The above dataset is required for some task"
   ]
  },
  {
   "cell_type": "code",
   "execution_count": 14,
   "metadata": {},
   "outputs": [],
   "source": [
    "df2 = df.copy()"
   ]
  },
  {
   "cell_type": "markdown",
   "metadata": {},
   "source": [
    "The genres are comma-separated. We need to separate all the genres in different rows."
   ]
  },
  {
   "cell_type": "code",
   "execution_count": 15,
   "metadata": {},
   "outputs": [],
   "source": [
    "df['Genre'] = df['Genre'].str.split(', ')\n",
    "df = df.explode('Genre')"
   ]
  },
  {
   "cell_type": "code",
   "execution_count": 16,
   "metadata": {},
   "outputs": [
    {
     "data": {
      "application/vnd.microsoft.datawrangler.viewer.v0+json": {
       "columns": [
        {
         "name": "index",
         "rawType": "int64",
         "type": "integer"
        },
        {
         "name": "Release_Date",
         "rawType": "int64",
         "type": "integer"
        },
        {
         "name": "Title",
         "rawType": "object",
         "type": "string"
        },
        {
         "name": "Popularity",
         "rawType": "float64",
         "type": "float"
        },
        {
         "name": "Vote_Count",
         "rawType": "int64",
         "type": "integer"
        },
        {
         "name": "Vote_Average",
         "rawType": "float64",
         "type": "float"
        },
        {
         "name": "Genre",
         "rawType": "object",
         "type": "string"
        }
       ],
       "conversionMethod": "pd.DataFrame",
       "ref": "3bedf33a-ffe8-4878-af81-f7794db5ce09",
       "rows": [
        [
         "0",
         "2021",
         "Spider-Man: No Way Home",
         "5083.954",
         "8940",
         "8.3",
         "Action"
        ],
        [
         "0",
         "2021",
         "Spider-Man: No Way Home",
         "5083.954",
         "8940",
         "8.3",
         "Adventure"
        ],
        [
         "0",
         "2021",
         "Spider-Man: No Way Home",
         "5083.954",
         "8940",
         "8.3",
         "Science Fiction"
        ],
        [
         "1",
         "2022",
         "The Batman",
         "3827.658",
         "1151",
         "8.1",
         "Crime"
        ],
        [
         "1",
         "2022",
         "The Batman",
         "3827.658",
         "1151",
         "8.1",
         "Mystery"
        ],
        [
         "1",
         "2022",
         "The Batman",
         "3827.658",
         "1151",
         "8.1",
         "Thriller"
        ],
        [
         "2",
         "2022",
         "No Exit",
         "2618.087",
         "122",
         "6.3",
         "Thriller"
        ],
        [
         "3",
         "2021",
         "Encanto",
         "2402.201",
         "5076",
         "7.7",
         "Animation"
        ],
        [
         "3",
         "2021",
         "Encanto",
         "2402.201",
         "5076",
         "7.7",
         "Comedy"
        ],
        [
         "3",
         "2021",
         "Encanto",
         "2402.201",
         "5076",
         "7.7",
         "Family"
        ],
        [
         "3",
         "2021",
         "Encanto",
         "2402.201",
         "5076",
         "7.7",
         "Fantasy"
        ],
        [
         "4",
         "2021",
         "The King's Man",
         "1895.511",
         "1793",
         "7.0",
         "Action"
        ],
        [
         "4",
         "2021",
         "The King's Man",
         "1895.511",
         "1793",
         "7.0",
         "Adventure"
        ],
        [
         "4",
         "2021",
         "The King's Man",
         "1895.511",
         "1793",
         "7.0",
         "Thriller"
        ],
        [
         "4",
         "2021",
         "The King's Man",
         "1895.511",
         "1793",
         "7.0",
         "War"
        ],
        [
         "5",
         "2022",
         "The Commando",
         "1750.484",
         "33",
         "6.6",
         "Action"
        ],
        [
         "5",
         "2022",
         "The Commando",
         "1750.484",
         "33",
         "6.6",
         "Crime"
        ],
        [
         "5",
         "2022",
         "The Commando",
         "1750.484",
         "33",
         "6.6",
         "Thriller"
        ],
        [
         "6",
         "2022",
         "Scream",
         "1675.161",
         "821",
         "6.8",
         "Horror"
        ],
        [
         "6",
         "2022",
         "Scream",
         "1675.161",
         "821",
         "6.8",
         "Mystery"
        ],
        [
         "6",
         "2022",
         "Scream",
         "1675.161",
         "821",
         "6.8",
         "Thriller"
        ],
        [
         "7",
         "2022",
         "Kimi",
         "1601.782",
         "206",
         "6.3",
         "Thriller"
        ],
        [
         "8",
         "2022",
         "Fistful of Vengeance",
         "1594.013",
         "114",
         "5.3",
         "Action"
        ],
        [
         "8",
         "2022",
         "Fistful of Vengeance",
         "1594.013",
         "114",
         "5.3",
         "Crime"
        ],
        [
         "8",
         "2022",
         "Fistful of Vengeance",
         "1594.013",
         "114",
         "5.3",
         "Fantasy"
        ],
        [
         "9",
         "2021",
         "Eternals",
         "1537.406",
         "4726",
         "7.2",
         "Science Fiction"
        ],
        [
         "10",
         "2022",
         "Pursuit",
         "1500.523",
         "16",
         "5.9",
         "Action"
        ],
        [
         "10",
         "2022",
         "Pursuit",
         "1500.523",
         "16",
         "5.9",
         "Crime"
        ],
        [
         "10",
         "2022",
         "Pursuit",
         "1500.523",
         "16",
         "5.9",
         "Thriller"
        ],
        [
         "11",
         "2021",
         "My Hero Academia: World Heroes' Mission",
         "1485.064",
         "100",
         "7.3",
         "Animation"
        ],
        [
         "11",
         "2021",
         "My Hero Academia: World Heroes' Mission",
         "1485.064",
         "100",
         "7.3",
         "Action"
        ],
        [
         "11",
         "2021",
         "My Hero Academia: World Heroes' Mission",
         "1485.064",
         "100",
         "7.3",
         "Fantasy"
        ],
        [
         "11",
         "2021",
         "My Hero Academia: World Heroes' Mission",
         "1485.064",
         "100",
         "7.3",
         "Adventure"
        ],
        [
         "12",
         "2022",
         "Restless",
         "1468.377",
         "107",
         "5.9",
         "Action"
        ],
        [
         "12",
         "2022",
         "Restless",
         "1468.377",
         "107",
         "5.9",
         "Thriller"
        ],
        [
         "12",
         "2022",
         "Restless",
         "1468.377",
         "107",
         "5.9",
         "Crime"
        ],
        [
         "13",
         "2021",
         "Nightmare Alley",
         "1455.144",
         "952",
         "7.1",
         "Crime"
        ],
        [
         "13",
         "2021",
         "Nightmare Alley",
         "1455.144",
         "952",
         "7.1",
         "Drama"
        ],
        [
         "13",
         "2021",
         "Nightmare Alley",
         "1455.144",
         "952",
         "7.1",
         "Thriller"
        ],
        [
         "14",
         "2022",
         "The Ice Age Adventures of Buck Wild",
         "1431.307",
         "737",
         "7.1",
         "Animation"
        ],
        [
         "14",
         "2022",
         "The Ice Age Adventures of Buck Wild",
         "1431.307",
         "737",
         "7.1",
         "Comedy"
        ],
        [
         "14",
         "2022",
         "The Ice Age Adventures of Buck Wild",
         "1431.307",
         "737",
         "7.1",
         "Adventure"
        ],
        [
         "14",
         "2022",
         "The Ice Age Adventures of Buck Wild",
         "1431.307",
         "737",
         "7.1",
         "Family"
        ],
        [
         "15",
         "2022",
         "Hotel Transylvania: Transformania",
         "1373.778",
         "288",
         "7.0",
         "Animation"
        ],
        [
         "15",
         "2022",
         "Hotel Transylvania: Transformania",
         "1373.778",
         "288",
         "7.0",
         "Family"
        ],
        [
         "15",
         "2022",
         "Hotel Transylvania: Transformania",
         "1373.778",
         "288",
         "7.0",
         "Fantasy"
        ],
        [
         "15",
         "2022",
         "Hotel Transylvania: Transformania",
         "1373.778",
         "288",
         "7.0",
         "Comedy"
        ],
        [
         "15",
         "2022",
         "Hotel Transylvania: Transformania",
         "1373.778",
         "288",
         "7.0",
         "Adventure"
        ],
        [
         "16",
         "2022",
         "Texas Chainsaw Massacre",
         "1312.79",
         "521",
         "5.1",
         "Horror"
        ],
        [
         "17",
         "2022",
         "The Requin",
         "1252.317",
         "65",
         "4.6",
         "Thriller"
        ]
       ],
       "shape": {
        "columns": 6,
        "rows": 25793
       }
      },
      "text/html": [
       "<div>\n",
       "<style scoped>\n",
       "    .dataframe tbody tr th:only-of-type {\n",
       "        vertical-align: middle;\n",
       "    }\n",
       "\n",
       "    .dataframe tbody tr th {\n",
       "        vertical-align: top;\n",
       "    }\n",
       "\n",
       "    .dataframe thead th {\n",
       "        text-align: right;\n",
       "    }\n",
       "</style>\n",
       "<table border=\"1\" class=\"dataframe\">\n",
       "  <thead>\n",
       "    <tr style=\"text-align: right;\">\n",
       "      <th></th>\n",
       "      <th>Release_Date</th>\n",
       "      <th>Title</th>\n",
       "      <th>Popularity</th>\n",
       "      <th>Vote_Count</th>\n",
       "      <th>Vote_Average</th>\n",
       "      <th>Genre</th>\n",
       "    </tr>\n",
       "  </thead>\n",
       "  <tbody>\n",
       "    <tr>\n",
       "      <th>0</th>\n",
       "      <td>2021</td>\n",
       "      <td>Spider-Man: No Way Home</td>\n",
       "      <td>5083.954</td>\n",
       "      <td>8940</td>\n",
       "      <td>8.3</td>\n",
       "      <td>Action</td>\n",
       "    </tr>\n",
       "    <tr>\n",
       "      <th>0</th>\n",
       "      <td>2021</td>\n",
       "      <td>Spider-Man: No Way Home</td>\n",
       "      <td>5083.954</td>\n",
       "      <td>8940</td>\n",
       "      <td>8.3</td>\n",
       "      <td>Adventure</td>\n",
       "    </tr>\n",
       "    <tr>\n",
       "      <th>0</th>\n",
       "      <td>2021</td>\n",
       "      <td>Spider-Man: No Way Home</td>\n",
       "      <td>5083.954</td>\n",
       "      <td>8940</td>\n",
       "      <td>8.3</td>\n",
       "      <td>Science Fiction</td>\n",
       "    </tr>\n",
       "    <tr>\n",
       "      <th>1</th>\n",
       "      <td>2022</td>\n",
       "      <td>The Batman</td>\n",
       "      <td>3827.658</td>\n",
       "      <td>1151</td>\n",
       "      <td>8.1</td>\n",
       "      <td>Crime</td>\n",
       "    </tr>\n",
       "    <tr>\n",
       "      <th>1</th>\n",
       "      <td>2022</td>\n",
       "      <td>The Batman</td>\n",
       "      <td>3827.658</td>\n",
       "      <td>1151</td>\n",
       "      <td>8.1</td>\n",
       "      <td>Mystery</td>\n",
       "    </tr>\n",
       "    <tr>\n",
       "      <th>...</th>\n",
       "      <td>...</td>\n",
       "      <td>...</td>\n",
       "      <td>...</td>\n",
       "      <td>...</td>\n",
       "      <td>...</td>\n",
       "      <td>...</td>\n",
       "    </tr>\n",
       "    <tr>\n",
       "      <th>9825</th>\n",
       "      <td>2021</td>\n",
       "      <td>The United States vs. Billie Holiday</td>\n",
       "      <td>13.354</td>\n",
       "      <td>152</td>\n",
       "      <td>6.7</td>\n",
       "      <td>Drama</td>\n",
       "    </tr>\n",
       "    <tr>\n",
       "      <th>9825</th>\n",
       "      <td>2021</td>\n",
       "      <td>The United States vs. Billie Holiday</td>\n",
       "      <td>13.354</td>\n",
       "      <td>152</td>\n",
       "      <td>6.7</td>\n",
       "      <td>History</td>\n",
       "    </tr>\n",
       "    <tr>\n",
       "      <th>9826</th>\n",
       "      <td>1984</td>\n",
       "      <td>Threads</td>\n",
       "      <td>13.354</td>\n",
       "      <td>186</td>\n",
       "      <td>7.8</td>\n",
       "      <td>War</td>\n",
       "    </tr>\n",
       "    <tr>\n",
       "      <th>9826</th>\n",
       "      <td>1984</td>\n",
       "      <td>Threads</td>\n",
       "      <td>13.354</td>\n",
       "      <td>186</td>\n",
       "      <td>7.8</td>\n",
       "      <td>Drama</td>\n",
       "    </tr>\n",
       "    <tr>\n",
       "      <th>9826</th>\n",
       "      <td>1984</td>\n",
       "      <td>Threads</td>\n",
       "      <td>13.354</td>\n",
       "      <td>186</td>\n",
       "      <td>7.8</td>\n",
       "      <td>Science Fiction</td>\n",
       "    </tr>\n",
       "  </tbody>\n",
       "</table>\n",
       "<p>25793 rows × 6 columns</p>\n",
       "</div>"
      ],
      "text/plain": [
       "      Release_Date                                 Title  Popularity  \\\n",
       "0             2021               Spider-Man: No Way Home    5083.954   \n",
       "0             2021               Spider-Man: No Way Home    5083.954   \n",
       "0             2021               Spider-Man: No Way Home    5083.954   \n",
       "1             2022                            The Batman    3827.658   \n",
       "1             2022                            The Batman    3827.658   \n",
       "...            ...                                   ...         ...   \n",
       "9825          2021  The United States vs. Billie Holiday      13.354   \n",
       "9825          2021  The United States vs. Billie Holiday      13.354   \n",
       "9826          1984                               Threads      13.354   \n",
       "9826          1984                               Threads      13.354   \n",
       "9826          1984                               Threads      13.354   \n",
       "\n",
       "      Vote_Count  Vote_Average            Genre  \n",
       "0           8940           8.3           Action  \n",
       "0           8940           8.3        Adventure  \n",
       "0           8940           8.3  Science Fiction  \n",
       "1           1151           8.1            Crime  \n",
       "1           1151           8.1          Mystery  \n",
       "...          ...           ...              ...  \n",
       "9825         152           6.7            Drama  \n",
       "9825         152           6.7          History  \n",
       "9826         186           7.8              War  \n",
       "9826         186           7.8            Drama  \n",
       "9826         186           7.8  Science Fiction  \n",
       "\n",
       "[25793 rows x 6 columns]"
      ]
     },
     "execution_count": 16,
     "metadata": {},
     "output_type": "execute_result"
    }
   ],
   "source": [
    "df"
   ]
  },
  {
   "cell_type": "markdown",
   "metadata": {},
   "source": [
    "### Final Data for Analysis"
   ]
  },
  {
   "cell_type": "code",
   "execution_count": 17,
   "metadata": {},
   "outputs": [
    {
     "data": {
      "application/vnd.microsoft.datawrangler.viewer.v0+json": {
       "columns": [
        {
         "name": "index",
         "rawType": "int64",
         "type": "integer"
        },
        {
         "name": "Release_Date",
         "rawType": "int64",
         "type": "integer"
        },
        {
         "name": "Title",
         "rawType": "object",
         "type": "string"
        },
        {
         "name": "Popularity",
         "rawType": "float64",
         "type": "float"
        },
        {
         "name": "Vote_Count",
         "rawType": "int64",
         "type": "integer"
        },
        {
         "name": "Vote_Average",
         "rawType": "float64",
         "type": "float"
        },
        {
         "name": "Genre",
         "rawType": "object",
         "type": "string"
        }
       ],
       "conversionMethod": "pd.DataFrame",
       "ref": "edfd6ccb-4198-47c2-ab2e-5e0604c3d55c",
       "rows": [
        [
         "0",
         "2021",
         "Spider-Man: No Way Home",
         "5083.954",
         "8940",
         "8.3",
         "Action"
        ],
        [
         "0",
         "2021",
         "Spider-Man: No Way Home",
         "5083.954",
         "8940",
         "8.3",
         "Adventure"
        ],
        [
         "0",
         "2021",
         "Spider-Man: No Way Home",
         "5083.954",
         "8940",
         "8.3",
         "Science Fiction"
        ],
        [
         "1",
         "2022",
         "The Batman",
         "3827.658",
         "1151",
         "8.1",
         "Crime"
        ],
        [
         "1",
         "2022",
         "The Batman",
         "3827.658",
         "1151",
         "8.1",
         "Mystery"
        ]
       ],
       "shape": {
        "columns": 6,
        "rows": 5
       }
      },
      "text/html": [
       "<div>\n",
       "<style scoped>\n",
       "    .dataframe tbody tr th:only-of-type {\n",
       "        vertical-align: middle;\n",
       "    }\n",
       "\n",
       "    .dataframe tbody tr th {\n",
       "        vertical-align: top;\n",
       "    }\n",
       "\n",
       "    .dataframe thead th {\n",
       "        text-align: right;\n",
       "    }\n",
       "</style>\n",
       "<table border=\"1\" class=\"dataframe\">\n",
       "  <thead>\n",
       "    <tr style=\"text-align: right;\">\n",
       "      <th></th>\n",
       "      <th>Release_Date</th>\n",
       "      <th>Title</th>\n",
       "      <th>Popularity</th>\n",
       "      <th>Vote_Count</th>\n",
       "      <th>Vote_Average</th>\n",
       "      <th>Genre</th>\n",
       "    </tr>\n",
       "  </thead>\n",
       "  <tbody>\n",
       "    <tr>\n",
       "      <th>0</th>\n",
       "      <td>2021</td>\n",
       "      <td>Spider-Man: No Way Home</td>\n",
       "      <td>5083.954</td>\n",
       "      <td>8940</td>\n",
       "      <td>8.3</td>\n",
       "      <td>Action</td>\n",
       "    </tr>\n",
       "    <tr>\n",
       "      <th>0</th>\n",
       "      <td>2021</td>\n",
       "      <td>Spider-Man: No Way Home</td>\n",
       "      <td>5083.954</td>\n",
       "      <td>8940</td>\n",
       "      <td>8.3</td>\n",
       "      <td>Adventure</td>\n",
       "    </tr>\n",
       "    <tr>\n",
       "      <th>0</th>\n",
       "      <td>2021</td>\n",
       "      <td>Spider-Man: No Way Home</td>\n",
       "      <td>5083.954</td>\n",
       "      <td>8940</td>\n",
       "      <td>8.3</td>\n",
       "      <td>Science Fiction</td>\n",
       "    </tr>\n",
       "    <tr>\n",
       "      <th>1</th>\n",
       "      <td>2022</td>\n",
       "      <td>The Batman</td>\n",
       "      <td>3827.658</td>\n",
       "      <td>1151</td>\n",
       "      <td>8.1</td>\n",
       "      <td>Crime</td>\n",
       "    </tr>\n",
       "    <tr>\n",
       "      <th>1</th>\n",
       "      <td>2022</td>\n",
       "      <td>The Batman</td>\n",
       "      <td>3827.658</td>\n",
       "      <td>1151</td>\n",
       "      <td>8.1</td>\n",
       "      <td>Mystery</td>\n",
       "    </tr>\n",
       "  </tbody>\n",
       "</table>\n",
       "</div>"
      ],
      "text/plain": [
       "   Release_Date                    Title  Popularity  Vote_Count  \\\n",
       "0          2021  Spider-Man: No Way Home    5083.954        8940   \n",
       "0          2021  Spider-Man: No Way Home    5083.954        8940   \n",
       "0          2021  Spider-Man: No Way Home    5083.954        8940   \n",
       "1          2022               The Batman    3827.658        1151   \n",
       "1          2022               The Batman    3827.658        1151   \n",
       "\n",
       "   Vote_Average            Genre  \n",
       "0           8.3           Action  \n",
       "0           8.3        Adventure  \n",
       "0           8.3  Science Fiction  \n",
       "1           8.1            Crime  \n",
       "1           8.1          Mystery  "
      ]
     },
     "execution_count": 17,
     "metadata": {},
     "output_type": "execute_result"
    }
   ],
   "source": [
    "df.head()"
   ]
  },
  {
   "cell_type": "code",
   "execution_count": 18,
   "metadata": {},
   "outputs": [
    {
     "name": "stdout",
     "output_type": "stream",
     "text": [
      "<class 'pandas.core.frame.DataFrame'>\n",
      "Index: 25793 entries, 0 to 9826\n",
      "Data columns (total 6 columns):\n",
      " #   Column        Non-Null Count  Dtype  \n",
      "---  ------        --------------  -----  \n",
      " 0   Release_Date  25793 non-null  int64  \n",
      " 1   Title         25793 non-null  object \n",
      " 2   Popularity    25793 non-null  float64\n",
      " 3   Vote_Count    25793 non-null  int64  \n",
      " 4   Vote_Average  25793 non-null  float64\n",
      " 5   Genre         25793 non-null  object \n",
      "dtypes: float64(2), int64(2), object(2)\n",
      "memory usage: 1.4+ MB\n"
     ]
    }
   ],
   "source": [
    "df.info()"
   ]
  },
  {
   "cell_type": "markdown",
   "metadata": {},
   "source": [
    "### Data Analysis"
   ]
  },
  {
   "cell_type": "markdown",
   "metadata": {},
   "source": [
    "What is the most frequent genre of movies released on Netflix?"
   ]
  },
  {
   "cell_type": "code",
   "execution_count": 19,
   "metadata": {},
   "outputs": [
    {
     "data": {
      "text/plain": [
       "Genre\n",
       "Drama              3744\n",
       "Comedy             3031\n",
       "Action             2686\n",
       "Thriller           2488\n",
       "Adventure          1853\n",
       "Romance            1476\n",
       "Horror             1470\n",
       "Animation          1439\n",
       "Family             1414\n",
       "Fantasy            1308\n",
       "Science Fiction    1273\n",
       "Crime              1242\n",
       "Mystery             773\n",
       "History             427\n",
       "War                 308\n",
       "Music               295\n",
       "Documentary         215\n",
       "TV Movie            214\n",
       "Western             137\n",
       "Name: count, dtype: int64"
      ]
     },
     "execution_count": 19,
     "metadata": {},
     "output_type": "execute_result"
    }
   ],
   "source": [
    "df['Genre'].value_counts()"
   ]
  },
  {
   "cell_type": "code",
   "execution_count": 20,
   "metadata": {},
   "outputs": [
    {
     "name": "stdout",
     "output_type": "stream",
     "text": [
      "The most frequent genre of movies released on Netflix is: Drama (3744)\n"
     ]
    }
   ],
   "source": [
    "print(f\"The most frequent genre of movies released on Netflix is: {df['Genre'].value_counts().idxmax()} ({df['Genre'].value_counts().max()})\")"
   ]
  },
  {
   "cell_type": "code",
   "execution_count": 21,
   "metadata": {},
   "outputs": [
    {
     "data": {
      "image/png": "[encoded data removed]",
      "text/plain": [
       "<Figure size 2500x800 with 1 Axes>"
      ]
     },
     "metadata": {},
     "output_type": "display_data"
    }
   ],
   "source": [
    "fig, ax = plt.subplots(figsize=(25, 8))\n",
    "\n",
    "genre = pd.Series(df['Genre'].unique())\n",
    "genre_count = pd.Series(df['Genre'].value_counts())\n",
    "\n",
    "bar_colors = ['tab:red', 'tab:blue', 'cyan', 'tab:orange', 'tab:green', 'yellow', 'tab:purple', 'pink', 'brown', 'black', 'navy', 'gray', 'magenta', 'lime', 'teal', 'indigo', 'violet', 'darkslategray', 'maroon']\n",
    "\n",
    "bars = ax.bar(genre, genre_count, color=bar_colors)\n",
    "ax.bar_label(bars, labels=genre_count, padding=5)\n",
    "\n",
    "ax.set_xlabel('Genres')\n",
    "ax.set_ylabel('No. of Movies')\n",
    "ax.set_title('Genres released in NETFLIX')\n",
    "\n",
    "plt.show()"
   ]
  },
  {
   "cell_type": "markdown",
   "metadata": {},
   "source": [
    "Which has highest votes in vote avg column?"
   ]
  },
  {
   "cell_type": "code",
   "execution_count": 22,
   "metadata": {},
   "outputs": [
    {
     "data": {
      "application/vnd.microsoft.datawrangler.viewer.v0+json": {
       "columns": [
        {
         "name": "index",
         "rawType": "int64",
         "type": "integer"
        },
        {
         "name": "Release_Date",
         "rawType": "int64",
         "type": "integer"
        },
        {
         "name": "Title",
         "rawType": "object",
         "type": "string"
        },
        {
         "name": "Popularity",
         "rawType": "float64",
         "type": "float"
        },
        {
         "name": "Vote_Count",
         "rawType": "int64",
         "type": "integer"
        },
        {
         "name": "Vote_Average",
         "rawType": "float64",
         "type": "float"
        },
        {
         "name": "Genre",
         "rawType": "object",
         "type": "string"
        }
       ],
       "conversionMethod": "pd.DataFrame",
       "ref": "960321b8-90fe-45b6-b887-6c6856ad4711",
       "rows": [
        [
         "9391",
         "2020",
         "Kung Fu Master Huo Yuanjia",
         "13.745",
         "1",
         "10.0",
         "Action, Drama"
        ]
       ],
       "shape": {
        "columns": 6,
        "rows": 1
       }
      },
      "text/html": [
       "<div>\n",
       "<style scoped>\n",
       "    .dataframe tbody tr th:only-of-type {\n",
       "        vertical-align: middle;\n",
       "    }\n",
       "\n",
       "    .dataframe tbody tr th {\n",
       "        vertical-align: top;\n",
       "    }\n",
       "\n",
       "    .dataframe thead th {\n",
       "        text-align: right;\n",
       "    }\n",
       "</style>\n",
       "<table border=\"1\" class=\"dataframe\">\n",
       "  <thead>\n",
       "    <tr style=\"text-align: right;\">\n",
       "      <th></th>\n",
       "      <th>Release_Date</th>\n",
       "      <th>Title</th>\n",
       "      <th>Popularity</th>\n",
       "      <th>Vote_Count</th>\n",
       "      <th>Vote_Average</th>\n",
       "      <th>Genre</th>\n",
       "    </tr>\n",
       "  </thead>\n",
       "  <tbody>\n",
       "    <tr>\n",
       "      <th>9391</th>\n",
       "      <td>2020</td>\n",
       "      <td>Kung Fu Master Huo Yuanjia</td>\n",
       "      <td>13.745</td>\n",
       "      <td>1</td>\n",
       "      <td>10.0</td>\n",
       "      <td>Action, Drama</td>\n",
       "    </tr>\n",
       "  </tbody>\n",
       "</table>\n",
       "</div>"
      ],
      "text/plain": [
       "      Release_Date                       Title  Popularity  Vote_Count  \\\n",
       "9391          2020  Kung Fu Master Huo Yuanjia      13.745           1   \n",
       "\n",
       "      Vote_Average          Genre  \n",
       "9391          10.0  Action, Drama  "
      ]
     },
     "execution_count": 22,
     "metadata": {},
     "output_type": "execute_result"
    }
   ],
   "source": [
    "df2.loc[df2['Vote_Average'] == df2['Vote_Average'].max()]"
   ]
  },
  {
   "cell_type": "markdown",
   "metadata": {},
   "source": [
    "What movie has got the highest popularity? What's its genre?"
   ]
  },
  {
   "cell_type": "code",
   "execution_count": 23,
   "metadata": {},
   "outputs": [
    {
     "data": {
      "application/vnd.microsoft.datawrangler.viewer.v0+json": {
       "columns": [
        {
         "name": "index",
         "rawType": "int64",
         "type": "integer"
        },
        {
         "name": "Release_Date",
         "rawType": "int64",
         "type": "integer"
        },
        {
         "name": "Title",
         "rawType": "object",
         "type": "string"
        },
        {
         "name": "Popularity",
         "rawType": "float64",
         "type": "float"
        },
        {
         "name": "Vote_Count",
         "rawType": "int64",
         "type": "integer"
        },
        {
         "name": "Vote_Average",
         "rawType": "float64",
         "type": "float"
        },
        {
         "name": "Genre",
         "rawType": "object",
         "type": "string"
        }
       ],
       "conversionMethod": "pd.DataFrame",
       "ref": "52c14a4e-cd71-4e46-a129-00d1e42b5f5a",
       "rows": [
        [
         "0",
         "2021",
         "Spider-Man: No Way Home",
         "5083.954",
         "8940",
         "8.3",
         "Action, Adventure, Science Fiction"
        ]
       ],
       "shape": {
        "columns": 6,
        "rows": 1
       }
      },
      "text/html": [
       "<div>\n",
       "<style scoped>\n",
       "    .dataframe tbody tr th:only-of-type {\n",
       "        vertical-align: middle;\n",
       "    }\n",
       "\n",
       "    .dataframe tbody tr th {\n",
       "        vertical-align: top;\n",
       "    }\n",
       "\n",
       "    .dataframe thead th {\n",
       "        text-align: right;\n",
       "    }\n",
       "</style>\n",
       "<table border=\"1\" class=\"dataframe\">\n",
       "  <thead>\n",
       "    <tr style=\"text-align: right;\">\n",
       "      <th></th>\n",
       "      <th>Release_Date</th>\n",
       "      <th>Title</th>\n",
       "      <th>Popularity</th>\n",
       "      <th>Vote_Count</th>\n",
       "      <th>Vote_Average</th>\n",
       "      <th>Genre</th>\n",
       "    </tr>\n",
       "  </thead>\n",
       "  <tbody>\n",
       "    <tr>\n",
       "      <th>0</th>\n",
       "      <td>2021</td>\n",
       "      <td>Spider-Man: No Way Home</td>\n",
       "      <td>5083.954</td>\n",
       "      <td>8940</td>\n",
       "      <td>8.3</td>\n",
       "      <td>Action, Adventure, Science Fiction</td>\n",
       "    </tr>\n",
       "  </tbody>\n",
       "</table>\n",
       "</div>"
      ],
      "text/plain": [
       "   Release_Date                    Title  Popularity  Vote_Count  \\\n",
       "0          2021  Spider-Man: No Way Home    5083.954        8940   \n",
       "\n",
       "   Vote_Average                               Genre  \n",
       "0           8.3  Action, Adventure, Science Fiction  "
      ]
     },
     "execution_count": 23,
     "metadata": {},
     "output_type": "execute_result"
    }
   ],
   "source": [
    "df2.loc[df2['Popularity'] == df2['Popularity'].max()]"
   ]
  },
  {
   "cell_type": "markdown",
   "metadata": {},
   "source": [
    "What movie has got the lowest popularity? What's its genre?"
   ]
  },
  {
   "cell_type": "code",
   "execution_count": 24,
   "metadata": {},
   "outputs": [
    {
     "data": {
      "application/vnd.microsoft.datawrangler.viewer.v0+json": {
       "columns": [
        {
         "name": "index",
         "rawType": "int64",
         "type": "integer"
        },
        {
         "name": "Release_Date",
         "rawType": "int64",
         "type": "integer"
        },
        {
         "name": "Title",
         "rawType": "object",
         "type": "string"
        },
        {
         "name": "Popularity",
         "rawType": "float64",
         "type": "float"
        },
        {
         "name": "Vote_Count",
         "rawType": "int64",
         "type": "integer"
        },
        {
         "name": "Vote_Average",
         "rawType": "float64",
         "type": "float"
        },
        {
         "name": "Genre",
         "rawType": "object",
         "type": "string"
        }
       ],
       "conversionMethod": "pd.DataFrame",
       "ref": "b1fc0202-3c05-433b-9e1c-8cbc4f52e40e",
       "rows": [
        [
         "9825",
         "2021",
         "The United States vs. Billie Holiday",
         "13.354",
         "152",
         "6.7",
         "Music, Drama, History"
        ],
        [
         "9826",
         "1984",
         "Threads",
         "13.354",
         "186",
         "7.8",
         "War, Drama, Science Fiction"
        ]
       ],
       "shape": {
        "columns": 6,
        "rows": 2
       }
      },
      "text/html": [
       "<div>\n",
       "<style scoped>\n",
       "    .dataframe tbody tr th:only-of-type {\n",
       "        vertical-align: middle;\n",
       "    }\n",
       "\n",
       "    .dataframe tbody tr th {\n",
       "        vertical-align: top;\n",
       "    }\n",
       "\n",
       "    .dataframe thead th {\n",
       "        text-align: right;\n",
       "    }\n",
       "</style>\n",
       "<table border=\"1\" class=\"dataframe\">\n",
       "  <thead>\n",
       "    <tr style=\"text-align: right;\">\n",
       "      <th></th>\n",
       "      <th>Release_Date</th>\n",
       "      <th>Title</th>\n",
       "      <th>Popularity</th>\n",
       "      <th>Vote_Count</th>\n",
       "      <th>Vote_Average</th>\n",
       "      <th>Genre</th>\n",
       "    </tr>\n",
       "  </thead>\n",
       "  <tbody>\n",
       "    <tr>\n",
       "      <th>9825</th>\n",
       "      <td>2021</td>\n",
       "      <td>The United States vs. Billie Holiday</td>\n",
       "      <td>13.354</td>\n",
       "      <td>152</td>\n",
       "      <td>6.7</td>\n",
       "      <td>Music, Drama, History</td>\n",
       "    </tr>\n",
       "    <tr>\n",
       "      <th>9826</th>\n",
       "      <td>1984</td>\n",
       "      <td>Threads</td>\n",
       "      <td>13.354</td>\n",
       "      <td>186</td>\n",
       "      <td>7.8</td>\n",
       "      <td>War, Drama, Science Fiction</td>\n",
       "    </tr>\n",
       "  </tbody>\n",
       "</table>\n",
       "</div>"
      ],
      "text/plain": [
       "      Release_Date                                 Title  Popularity  \\\n",
       "9825          2021  The United States vs. Billie Holiday      13.354   \n",
       "9826          1984                               Threads      13.354   \n",
       "\n",
       "      Vote_Count  Vote_Average                        Genre  \n",
       "9825         152           6.7        Music, Drama, History  \n",
       "9826         186           7.8  War, Drama, Science Fiction  "
      ]
     },
     "execution_count": 24,
     "metadata": {},
     "output_type": "execute_result"
    }
   ],
   "source": [
    "df2.loc[df2['Popularity'] == df2['Popularity'].min()]"
   ]
  },
  {
   "cell_type": "markdown",
   "metadata": {},
   "source": [
    "Which year has the most filmmed movies?"
   ]
  },
  {
   "cell_type": "code",
   "execution_count": 25,
   "metadata": {},
   "outputs": [
    {
     "data": {
      "text/plain": [
       "Release_Date\n",
       "2021    714\n",
       "2018    530\n",
       "2017    510\n",
       "2019    500\n",
       "2016    470\n",
       "       ... \n",
       "1925      1\n",
       "1902      1\n",
       "1920      1\n",
       "1929      1\n",
       "1930      1\n",
       "Name: count, Length: 102, dtype: int64"
      ]
     },
     "execution_count": 25,
     "metadata": {},
     "output_type": "execute_result"
    }
   ],
   "source": [
    "\n",
    "df2['Release_Date'].value_counts()"
   ]
  },
  {
   "cell_type": "code",
   "execution_count": 26,
   "metadata": {},
   "outputs": [
    {
     "name": "stdout",
     "output_type": "stream",
     "text": [
      "2021 is the most filmmed year in Netflix with 714 films\n"
     ]
    }
   ],
   "source": [
    "print(f\"{df2['Release_Date'].value_counts().idxmax()} is the most filmmed year in Netflix with {df2['Release_Date'].value_counts().max()} films\")"
   ]
  },
  {
   "cell_type": "code",
   "execution_count": 27,
   "metadata": {},
   "outputs": [
    {
     "data": {
      "image/png": "[encoded data removed]",
      "text/plain": [
       "<Figure size 2000x1000 with 1 Axes>"
      ]
     },
     "metadata": {},
     "output_type": "display_data"
    }
   ],
   "source": [
    "fig, ax = plt.subplots(figsize=(20, 10))\n",
    "\n",
    "years = pd.Series(df2['Release_Date'].unique())\n",
    "movie_count = pd.Series(df2['Release_Date'].value_counts(sort=False))\n",
    "\n",
    "bars = ax.bar(years, movie_count)\n",
    "ax.bar_label(bars, labels=movie_count, padding=5)\n",
    "\n",
    "ax.set_xlabel('Years')\n",
    "ax.set_ylabel('No. of Movies')\n",
    "ax.set_title('Movies released in NETFLIX')\n",
    "\n",
    "plt.show()"
   ]
  },
  {
   "cell_type": "markdown",
   "metadata": {},
   "source": [
    "#### Decade-Wise Movie Count in Netflix"
   ]
  },
  {
   "cell_type": "code",
   "execution_count": 28,
   "metadata": {},
   "outputs": [],
   "source": [
    "bins = list(range(1900, 2031, 10))\n",
    "labels = [f\"{start}-{start+9}\" for start in bins[:-1]]\n",
    "\n",
    "series1 = pd.Series(labels, name='Time_Periods')\n",
    "\n",
    "counts = pd.cut(df2['Release_Date'], bins=bins, labels=labels, include_lowest=True, right=False).value_counts().sort_index()\n",
    "series2 = pd.Series(counts.values, index=labels, name='Movie_Count')"
   ]
  },
  {
   "cell_type": "code",
   "execution_count": 29,
   "metadata": {},
   "outputs": [
    {
     "data": {
      "image/png": "[encoded data removed]",
      "text/plain": [
       "<Figure size 2000x1000 with 1 Axes>"
      ]
     },
     "metadata": {},
     "output_type": "display_data"
    }
   ],
   "source": [
    "fig, ax = plt.subplots(figsize=(20, 10))\n",
    "bar_colors = ['tab:red', 'tab:blue', 'cyan', 'tab:orange', 'tab:green', 'yellow', 'tab:purple', 'pink', 'brown', 'black', 'navy', 'gray', 'magenta'][::-1]\n",
    "\n",
    "\n",
    "bars = ax.bar(series1, series2, color=bar_colors)\n",
    "ax.bar_label(bars, labels=series2, padding=5)\n",
    "\n",
    "ax.set_xlabel('Years')\n",
    "ax.set_ylabel('No. of Movies')\n",
    "ax.set_title('Movies released in NETFLIX')\n",
    "\n",
    "plt.show()"
   ]
  },
  {
   "cell_type": "markdown",
   "metadata": {},
   "source": [
    "# CONCLUSION"
   ]
  },
  {
   "cell_type": "markdown",
   "metadata": {},
   "source": [
    "### Q1. What is the most frequent genre of movies released on Netflix?"
   ]
  },
  {
   "cell_type": "markdown",
   "metadata": {},
   "source": [
    "In the given dataset, the most frequent genre of movies that released on Netflix is <b>Drama</b> with <b>3744 movies.</b>"
   ]
  },
  {
   "cell_type": "markdown",
   "metadata": {},
   "source": [
    "### Q2. Which has highest votes in vote avg column?"
   ]
  },
  {
   "cell_type": "markdown",
   "metadata": {},
   "source": [
    "<b>Kung Fu Master Huo Yuanjia</b>, released on <b>09 April 2020</b>, has the highest votes, i.e., <b>10.0</b>,  in `Vote_Average` column"
   ]
  },
  {
   "cell_type": "markdown",
   "metadata": {},
   "source": [
    "### Q3. What movie has got the highest popularity? What's its genre?"
   ]
  },
  {
   "cell_type": "markdown",
   "metadata": {},
   "source": [
    "<b>Spider-Man: No Way Home</b>, released on <b>15 December 2021</b>, is a <i>Action, Adventure, Science Fiction</i> movie, which is the most popular movie in Netflix."
   ]
  },
  {
   "cell_type": "markdown",
   "metadata": {},
   "source": [
    "### Q4. What movie has got the lowest popularity? What's its genre?"
   ]
  },
  {
   "cell_type": "markdown",
   "metadata": {},
   "source": [
    "There are <b>two</b> movies which got the lowest popularity in Netflix:-\n",
    "<ol>\n",
    "<li><b>The United States vs. Billie Holiday</b>, released on <b>31 March 2021</b></li>\n",
    "<li><b>Threads</b>, released on <b>23 September 1984</b></li>\n",
    "</ol> "
   ]
  },
  {
   "cell_type": "markdown",
   "metadata": {},
   "source": [
    "### Q5. Which year has the most filmmed movies?"
   ]
  },
  {
   "cell_type": "markdown",
   "metadata": {},
   "source": [
    "In <b>2021</b>, <b>714 movies</b> got released on Netflix, making it the most filmmed year."
   ]
  }
 ],
 "metadata": {
  "kernelspec": {
   "display_name": "Python 3",
   "language": "python",
   "name": "python3"
  },
  "language_info": {
   "codemirror_mode": {
    "name": "ipython",
    "version": 3
   },
   "file_extension": ".py",
   "mimetype": "text/x-python",
   "name": "python",
   "nbconvert_exporter": "python",
   "pygments_lexer": "ipython3",
   "version": "3.11.8"
  }
 },
 "nbformat": 4,
 "nbformat_minor": 2
}
